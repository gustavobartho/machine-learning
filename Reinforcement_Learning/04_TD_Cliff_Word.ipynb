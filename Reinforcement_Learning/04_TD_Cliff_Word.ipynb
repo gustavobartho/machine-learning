{
 "cells": [
  {
   "cell_type": "markdown",
   "metadata": {},
   "source": [
    "# GPI no Cliff World com Sarsa, Q-Learning e Expected Sarsa\n",
    "\n",
    "#### O envirorment usado neste teste srá o do Cliff World, em que o estado inicial é no canto direito inferior e o estado terminal é no canto esquerdo inferior, o objetivo do agente é descobrir o melhor caminho entre o estado inicial e o estado final sendo que:\n",
    "* Os estados entre o inicial e o final são o precipicio (cliff) e caso o agente entre neles ele recebe um reward de $-100$ e volta para o estado inicial sem o episode ser terminado\n",
    "* Para cada transição para um estado que não seja o terminal o agente recebe um reward de $-1$\n",
    "* Se chocar nas bordas apenas mantem no estado atual recebendo o reward de transição\n",
    "* Se atingir o estado terminal o episode é encerrado"
   ]
  },
  {
   "cell_type": "markdown",
   "metadata": {},
   "source": [
    "<img src=\"images/cliffworld.png\" alt=\"Drawing\" style=\"width: 600px;\"/>"
   ]
  },
  {
   "cell_type": "code",
   "execution_count": 1,
   "metadata": {},
   "outputs": [],
   "source": [
    "import numpy as np\n",
    "import matplotlib.pyplot as plt"
   ]
  },
  {
   "cell_type": "code",
   "execution_count": 2,
   "metadata": {},
   "outputs": [],
   "source": [
    "#Criação da classe do envirorment\n",
    "class CliffWorld:\n",
    "    def __init__(self, env_map = 1, num_lines=4, num_cols=12):\n",
    "        self.num_cols = num_cols\n",
    "        self.num_lines = num_lines\n",
    "        self.init_state = self.num_cols * (self.num_lines - 1)\n",
    "        self.terminal_state = (self.num_cols * self.num_lines) - 1\n",
    "        if(env_map == 1): self.cliff = [i for i in range(self.init_state+1, self.terminal_state)]\n",
    "        elif(env_map == 2): self.cliff = [14, 26, 38, 6, 18, 30, 33, 45]\n",
    "        self.cliff_reward = -100\n",
    "        self.step_reward = -1\n",
    "        self.terminal_reward = 0\n",
    "        self.terminal = False\n",
    "        self.state = None\n",
    "        self.num_states = self.num_cols * self.num_lines\n",
    "        self.num_actions = 4\n",
    "    #-------------------------------------------------------- \n",
    "    def envInit(self):\n",
    "        self.state = self.init_state\n",
    "        self.terminal = False\n",
    "        return self.state, self.terminal\n",
    "    #-------------------------------------------------------- \n",
    "    def envStep(self, action):\n",
    "        #Se ainda não tiver atingido o estado terminal\n",
    "        if (self.terminal == False):\n",
    "            #action = 0 -> CIMA\n",
    "            if (action == 0): \n",
    "                #Se o estado atual não estiver na borda superior pode ir para cima\n",
    "                if (self.state >= self.num_cols):\n",
    "                    self.state = self.state - self.num_cols\n",
    "                reward = self.step_reward\n",
    "\n",
    "            #action = 1 -> DIREITA\n",
    "            elif (action == 1):\n",
    "                #Se o estado atual não estiver na borda da direita pode ir para a direita\n",
    "                if((self.state + 1) % self.num_cols != 0):\n",
    "                    self.state = self.state + 1\n",
    "                reward = self.step_reward\n",
    "\n",
    "            #action = 2 -> BAIXO\n",
    "            elif (action == 2):\n",
    "                if(self.state < (self.num_lines - 1) * self.num_cols):\n",
    "                    self.state = self.state + self.num_cols\n",
    "                reward = self.step_reward\n",
    "\n",
    "            #action = 3 -> ESQUERDA\n",
    "            elif (action == 3):\n",
    "                if(self.state % self.num_cols != 0):\n",
    "                    self.state = self.state - 1\n",
    "                reward = self.step_reward\n",
    "\n",
    "            #Se o estado atual estiver no cliff volta p/ o estado inicial e o reward é de -100\n",
    "            if self.state in self.cliff:\n",
    "                self.state = self.init_state\n",
    "                reward = self.cliff_reward\n",
    "\n",
    "            #Ainda não atingiu o estado terminal\n",
    "            self.terminal = False\n",
    "\n",
    "            #Se o estado for o terminal o reward é 0 e terminal = True\n",
    "            if(self.state == self.terminal_state):\n",
    "                reward = self.terminal_reward\n",
    "                self.terminal = True\n",
    "        \n",
    "        #Se ja tiver atingido o estado terminal\n",
    "        else:\n",
    "            self.terminal = True\n",
    "            reward = 0\n",
    "            \n",
    "        return self.state, reward, self.terminal      \n",
    "    #-------------------------------------------------------- \n",
    "    def getNumStates(self):\n",
    "        return self.num_states\n",
    "    #-------------------------------------------------------- \n",
    "    def getNumActions(self):\n",
    "        return self.num_actions"
   ]
  },
  {
   "cell_type": "code",
   "execution_count": 3,
   "metadata": {},
   "outputs": [
    {
     "name": "stdout",
     "output_type": "stream",
     "text": [
      "Estado Inicial:  36\n",
      "Terminal : False\n"
     ]
    }
   ],
   "source": [
    "env = CliffWorld()\n",
    "state, terminal = env.envInit()\n",
    "print(\"Estado Inicial: \", state)\n",
    "print(\"Terminal :\", terminal)"
   ]
  },
  {
   "cell_type": "code",
   "execution_count": 4,
   "metadata": {},
   "outputs": [],
   "source": [
    "class TdAgent:\n",
    "    def __init__(self, td_type, step_size = 0.5, discount = 1.0, epsilon = 0.1):\n",
    "        self.td_type = td_type\n",
    "        self.step_size = step_size\n",
    "        self.discount = discount\n",
    "        self.epsilon = epsilon\n",
    "    \n",
    "    #-------------------------------------------------------- \n",
    "    def train(self, env, num_episodes):\n",
    "        \n",
    "        #Pega o numero de estados e onumero de ações do ambiente\n",
    "        num_states = env.getNumStates()\n",
    "        num_actions = env.getNumActions()\n",
    "        \n",
    "        #Inicializa os action-values como zero\n",
    "        self.q_values = np.zeros((num_states, num_actions))\n",
    "        \n",
    "        #Vetor que ira armazenar a soma das rewards em cada episodio\n",
    "        rewards = np.zeros(num_episodes)\n",
    "        \n",
    "        #Vetor com o numero de visitas em cada estado nos ultimos 10 episodios\n",
    "        visits = np.zeros(num_states)\n",
    "        \n",
    "        #Reliza todos os episodes\n",
    "        for episode in range(num_episodes):\n",
    "            \n",
    "            #Armazena o estado inicial e a ação inicial\n",
    "            prev_state, terminal = env.envInit()\n",
    "            \n",
    "            #Escolhe a ação de acordo com o metodo epsilon-soft\n",
    "            if(np.random.rand() < self.epsilon):\n",
    "                prev_action = np.random.randint(num_actions)\n",
    "            else:\n",
    "                prev_action = self.argmax(self.q_values[prev_state, :], num_actions)\n",
    "            \n",
    "            #Enquanto não atingir o estado terminal\n",
    "            while(terminal is False):\n",
    "                \n",
    "                #Realiza a acao no ambiente baseado no ultimo estado\n",
    "                state, reward, terminal = env.envStep(prev_action)\n",
    "                \n",
    "                #Ecolhe uma nova acao baseando no estado atual\n",
    "                if(np.random.rand() < self.epsilon):\n",
    "                    action = np.random.randint(num_actions)\n",
    "                else:\n",
    "                    action = self.argmax(self.q_values[state, :], num_actions)\n",
    "                \n",
    "                #Atualiza o valor de Q(S, A) para o estado e ação anteriores de acordo com o metodo escolhido\n",
    "                if(self.td_type == \"sarsa\"):\n",
    "                    self.q_values[prev_state, prev_action] = self.q_values[prev_state, prev_action] + self.step_size*(reward + self.discount*self.q_values[state, action] - self.q_values[prev_state, prev_action])\n",
    "                \n",
    "                elif(self.td_type == \"q\"):\n",
    "                    self.q_values[prev_state, prev_action] = self.q_values[prev_state, prev_action] + self.step_size*(reward + self.discount*np.amax(self.q_values[state, :]) - self.q_values[prev_state, prev_action])\n",
    "                \n",
    "                elif(self.td_type == \"ex-sarsa\"):\n",
    "                    current_q = self.q_values[state, :]\n",
    "                    t_error = 0\n",
    "                    top = float(\"-inf\")\n",
    "                    ties = []\n",
    "                    for i in range(len(current_q)):\n",
    "                        if current_q[i] > top:\n",
    "                            top = current_q[i]\n",
    "                            ties = []\n",
    "                        if current_q[i] == top:\n",
    "                            ties.append(i)\n",
    "                    for i in range(len(current_q)):\n",
    "                        if i in ties:\n",
    "                            t = self.q_values[state, i]*((1 - self.epsilon)/len(ties) + (self.epsilon/num_actions))\n",
    "                        else:\n",
    "                            t = self.q_values[state, i]*(self.epsilon/num_actions)\n",
    "                        t_error += t\n",
    "                    self.q_values[prev_state, prev_action] += self.step_size*(reward + self.discount*t_error - self.q_values[prev_state, prev_action])\n",
    "                \n",
    "                #Os estado e ação atuais passam a ser os anteriores\n",
    "                prev_state = state\n",
    "                prev_action = action\n",
    "                \n",
    "                #Adiciona o reward ao reward total do episodio\n",
    "                rewards[episode] += reward\n",
    "                \n",
    "                #Se estiver nos ultimos 10 episodios começa a armazenar as visitas em cada episodio\n",
    "                if(num_episodes - episode <=10):\n",
    "                    visits[prev_state] += 1\n",
    "             \n",
    "            #Armazenas as visitas no estado terminal\n",
    "            if(num_episodes - episode <=10):\n",
    "                visits[-1] += 1  \n",
    "        \n",
    "        #Retorna os rewards de cada episodio, os action-values finais e o numero de visitas em cada episodio  \n",
    "        return rewards, self.q_values, visits\n",
    "    \n",
    "    #-------------------------------------------------------- \n",
    "    def argmax(self, q_values, act_num):\n",
    "        '''Funcao que retorna o indice do valor maximo de um vetor q_values, \n",
    "        caso haja mais de um valor maximo entao retorna um deles aletoriamente'''\n",
    "        top_value = float(\"-inf\") #maior Q(a)\n",
    "        ties = [] #Acoes que empataram entre o maior valor de Q(a)\n",
    "        for i in range(act_num):\n",
    "            if(q_values[i] > top_value):     #Se o Q(a) for maior que o maximo ate o momento:\n",
    "                top_value = q_values[i]          #Substitui o Q(a) maximo pelo valor do atual\n",
    "                ties = []                        #Zera o vetor de empates das acoes com o Q(a) maximo\n",
    "                ties.append(i)                   #Adiciona a acao atual no vetor de empates\n",
    "            elif(q_values[i] == top_value):  #Se o Q(a) for igual ao maximo ate o momento:\n",
    "                ties.append(i)                   #Adiciona a ação ao vetor de empates\n",
    "        return np.random.choice(ties)            #Retorna um valor aleatorio do vetor de empates do Q maximo"
   ]
  },
  {
   "cell_type": "code",
   "execution_count": 5,
   "metadata": {},
   "outputs": [
    {
     "name": "stdout",
     "output_type": "stream",
     "text": [
      "Sarsa finished\n",
      "Q-learning finished\n",
      "Expected-Sarsa finished\n"
     ]
    },
    {
     "data": {
      "text/plain": [
       "<matplotlib.legend.Legend at 0x7fcd7bda0c10>"
      ]
     },
     "execution_count": 5,
     "metadata": {},
     "output_type": "execute_result"
    },
    {
     "data": {
      "image/png": "[encoded data removed]",
      "text/plain": [
       "<Figure size 648x648 with 1 Axes>"
      ]
     },
     "metadata": {
      "needs_background": "light"
     },
     "output_type": "display_data"
    }
   ],
   "source": [
    "num_lines=4\n",
    "num_cols=12\n",
    "env = CliffWorld(env_map=1, num_lines=num_lines, num_cols=num_cols)\n",
    "\n",
    "num_episodes = 2000\n",
    "t = np.arange(num_episodes)\n",
    "\n",
    "s_agent = TdAgent(\"sarsa\", step_size = 0.1, discount=0.8, epsilon=0.1)\n",
    "s_returns, s_Qvalues , s_visits = s_agent.train(env, num_episodes)\n",
    "print(\"Sarsa finished\")\n",
    "\n",
    "q_agent = TdAgent(\"q\", step_size = 0.3, discount=0.8, epsilon=0.08)\n",
    "q_returns, q_Qvalues, q_visits = q_agent.train(env, num_episodes)\n",
    "print(\"Q-learning finished\")\n",
    "\n",
    "es_agent = TdAgent(\"ex-sarsa\", step_size = 0.3, discount = 1, epsilon=0.1)\n",
    "es_returns, es_Qvalues, es_visits = es_agent.train(env, num_episodes)\n",
    "print(\"Expected-Sarsa finished\")\n",
    "\n",
    "plt.figure(figsize=(9, 9))\n",
    "plt.plot(t, s_returns, label='Sarsa')\n",
    "plt.plot(t, q_returns, label=\"Q-Learning\")\n",
    "plt.plot(t, es_returns, label=\"Ex-Sarsa\")\n",
    "plt.legend()"
   ]
  },
  {
   "cell_type": "markdown",
   "metadata": {},
   "source": [
    "### A célula abaixo plota o CliffWorld com o numero de visitas em cada estado nos ultimos 10 episodios do treinamento"
   ]
  },
  {
   "cell_type": "code",
   "execution_count": 6,
   "metadata": {},
   "outputs": [
    {
     "data": {
      "image/png": "[encoded data removed]",
      "text/plain": [
       "<Figure size 360x360 with 3 Axes>"
      ]
     },
     "metadata": {
      "needs_background": "light"
     },
     "output_type": "display_data"
    }
   ],
   "source": [
    "plt.figure(figsize=(5, 5)) \n",
    "plt.subplot(131)\n",
    "plt.imshow(s_visits.reshape(num_lines, num_cols))\n",
    "plt.title(\"Sarsa\")\n",
    "plt.subplot(132)\n",
    "plt.imshow(q_visits.reshape(num_lines, num_cols))\n",
    "plt.title(\"Q-Learning\")\n",
    "plt.subplot(133)\n",
    "plt.imshow(es_visits.reshape(num_lines, num_cols))\n",
    "plt.title(\"Expected Sarsa\")\n",
    "plt.subplots_adjust(left=0, bottom=0, right=5, top=10, wspace=0.2, hspace=0.2)\n",
    "plt.show()"
   ]
  },
  {
   "cell_type": "code",
   "execution_count": null,
   "metadata": {},
   "outputs": [],
   "source": []
  }
 ],
 "metadata": {
  "kernelspec": {
   "display_name": "Python 3",
   "language": "python",
   "name": "python3"
  },
  "language_info": {
   "codemirror_mode": {
    "name": "ipython",
    "version": 3
   },
   "file_extension": ".py",
   "mimetype": "text/x-python",
   "name": "python",
   "nbconvert_exporter": "python",
   "pygments_lexer": "ipython3",
   "version": "3.7.6"
  }
 },
 "nbformat": 4,
 "nbformat_minor": 4
}
