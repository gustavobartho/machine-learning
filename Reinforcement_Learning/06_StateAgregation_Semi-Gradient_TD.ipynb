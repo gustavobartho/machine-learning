{
 "cells": [
  {
   "cell_type": "markdown",
   "metadata": {},
   "source": [
    "## State Agregation e Linear Aproximation com Semi-Gradient Temporal Difference"
   ]
  },
  {
   "cell_type": "markdown",
   "metadata": {},
   "source": [
    "### Envirorment\n",
    "\n",
    "* N estados não terminais $S+ = {s1, s2, ..., sN}$, onde $N >= 500$\n",
    "* Duas ações deterministicas em cada estado (direita ou esquerda) $A(S) = {0, 1}$ onde `0 = esquerda` e `1 = direita`\n",
    "* Uma ação para um dos lados leva o agente para umas dos 100 estados seguintes naquela direção\n",
    "* Se houverem menos de 100 estados até um dos $ST$ então qualquer estado posterior ao $ST$ termina no $ST$\n",
    "* Uniform Random Policy $\\pi(.|s) = 0.5$ para todo $s$ pertencente a $S$\n",
    "* Os episodios começam no estado ${|S+|/2}$\n",
    "* Todos os episodios terminam ao serem atingidos a extremidade esquerda($L$) ou direita($D$)\n",
    "* $S = {L, s1, s2, s3, ..., sN, D}$\n",
    "* Os rewards sõ 0 para todas as transições exceto na que leva de $sN$ para $D$, onde o reward é $+1$ e para o $E$, onde o reward é $-1$\n",
    "* Os estados estarão divididos em $K$ grupos com $N/K$ estados cada"
   ]
  },
  {
   "cell_type": "code",
   "execution_count": 1,
   "metadata": {},
   "outputs": [],
   "source": [
    "import numpy as np\n",
    "import matplotlib.pyplot as plt"
   ]
  },
  {
   "cell_type": "code",
   "execution_count": 2,
   "metadata": {},
   "outputs": [],
   "source": [
    "class MyEnv:\n",
    "    def __init__(self, N, init_state = None):\n",
    "        self.N = N\n",
    "        self.terminal = None\n",
    "        if not init_state:\n",
    "            self.init_state = int(self.N/2)\n",
    "        else:\n",
    "            self.init_state = init_state\n",
    "        \n",
    "        self.L = 0\n",
    "        self.R = self.N + 1\n",
    "        \n",
    "        self.L_reward = -1\n",
    "        self.R_reward = 1\n",
    "        self.t_reward = 0\n",
    "    #------------------------------------------------------\n",
    "    def init(self):\n",
    "        self.terminal = False\n",
    "        self.state = self.init_state\n",
    "        return self.state, self.terminal\n",
    "    #------------------------------------------------------\n",
    "    def step(self, action):\n",
    "        if(self.terminal == False):\n",
    "            #action = 0 -> ESQUERDA\n",
    "            if(action == 0): \n",
    "                self.state = self.state - (np.random.randint(100) + 1)\n",
    "                reward = self.t_reward\n",
    "            \n",
    "            #action = 1 -> DIREITA\n",
    "            elif(action == 1):\n",
    "                self.state = self.state + (np.random.randint(100) + 1)\n",
    "                reward = self.t_reward\n",
    "            \n",
    "            #Se chegar no L\n",
    "            if(self.state <= self.L):\n",
    "                self.state = self.L\n",
    "                reward = self.L_reward\n",
    "                self.terminal = True\n",
    "            \n",
    "            #Se chegar no R\n",
    "            elif(self.state >= self.R):\n",
    "                self.state = self.R\n",
    "                reward = self.R_reward\n",
    "                self.terminal = True\n",
    "        \n",
    "        else:\n",
    "            reward = self.t_reward\n",
    "            self.terminal = True\n",
    "        \n",
    "        return self.state, reward, self.terminal\n",
    "    #------------------------------------------------------    \n",
    "    def getNStates(self):\n",
    "        return self.N\n",
    "    #------------------------------------------------------    \n",
    "    def getNActions(self):\n",
    "        return 2"
   ]
  },
  {
   "cell_type": "code",
   "execution_count": 3,
   "metadata": {},
   "outputs": [],
   "source": [
    "class Agent:\n",
    "    def __init__(self, num_groups, step_size, discount):\n",
    "        self.num_groups = num_groups\n",
    "        self.weights = np.random.rand((self.num_groups))\n",
    "        self.step_size = step_size\n",
    "        self.discount = discount\n",
    "        \n",
    "    def train(self, env, num_episodes):\n",
    "        num_states = env.getNStates()\n",
    "        self.states_per_group = int(num_states/self.num_groups)\n",
    "        \n",
    "        self.q_values = np.zeros((num_states))\n",
    "        \n",
    "        for episode in range(num_episodes):\n",
    "            prev_state, terminal = env.init()\n",
    "            prev_action = np.random.randint(env.getNActions())\n",
    "            \n",
    "            while(terminal == False):\n",
    "                prev_features = self.getFeatures(prev_state)\n",
    "                \n",
    "                state, reward, terminal = env.step(prev_action)\n",
    "                \n",
    "                if(terminal == False):\n",
    "                    features = self.getFeatures(state)\n",
    "                else:\n",
    "                    features = np.zeros((self.num_groups))\n",
    "                \n",
    "                t_error = (reward + self.discount*np.dot(self.weights, features) - np.dot(self.weights, prev_features)) \n",
    "                self.weights += self.step_size*np.dot(t_error, prev_features)\n",
    "                \n",
    "                prev_state = state\n",
    "                prev_action = np.random.randint(env.getNActions())\n",
    "            \n",
    "        for i in range(1, num_states + 1):   \n",
    "            self.q_values[i - 1] = np.dot(self.weights, self.getFeatures(i))\n",
    "        return self.q_values\n",
    "    \n",
    "    def getFeatures(self, state):\n",
    "        features = np.zeros((self.num_groups))\n",
    "        features[int((state - 1)/self.states_per_group)] = 1\n",
    "        return features"
   ]
  },
  {
   "cell_type": "code",
   "execution_count": 4,
   "metadata": {},
   "outputs": [],
   "source": [
    "N = 1000\n",
    "num_groups = 10\n",
    "t = np.arange(1, N + 1)\n",
    "env = MyEnv(N=N, init_state=500)\n",
    "agent1 = Agent(num_groups=num_groups, step_size=0.01, discount=1)\n",
    "agent2 = Agent(num_groups=num_groups, step_size=0.1, discount=1)\n",
    "agent3 = Agent(num_groups=num_groups, step_size=0.5, discount=1)"
   ]
  },
  {
   "cell_type": "code",
   "execution_count": 5,
   "metadata": {},
   "outputs": [],
   "source": [
    "q1 = agent1.train(env, 10000)\n",
    "q2 = agent2.train(env, 10000)\n",
    "q3 = agent3.train(env, 10000)"
   ]
  },
  {
   "cell_type": "code",
   "execution_count": 6,
   "metadata": {},
   "outputs": [
    {
     "data": {
      "text/plain": [
       "<matplotlib.legend.Legend at 0x7fd80a39ead0>"
      ]
     },
     "execution_count": 6,
     "metadata": {},
     "output_type": "execute_result"
    },
    {
     "data": {
      "image/png": "[encoded data removed]",
      "text/plain": [
       "<Figure size 648x648 with 1 Axes>"
      ]
     },
     "metadata": {
      "needs_background": "light"
     },
     "output_type": "display_data"
    }
   ],
   "source": [
    "plt.figure(figsize=(9, 9))\n",
    "plt.plot(t, q1, label=\"v(s, w) - 0.01\")\n",
    "plt.plot(t, q2, label=\"v(s, w) - 0.1\")\n",
    "plt.plot(t, q3, label=\"v(s, w) - 0.5\")\n",
    "plt.plot(t, np.arange(-1, 1, (2/N)), label=\"v_pi\")\n",
    "plt.legend()"
   ]
  },
  {
   "cell_type": "code",
   "execution_count": null,
   "metadata": {},
   "outputs": [],
   "source": []
  },
  {
   "cell_type": "code",
   "execution_count": null,
   "metadata": {},
   "outputs": [],
   "source": []
  }
 ],
 "metadata": {
  "kernelspec": {
   "display_name": "Python 3",
   "language": "python",
   "name": "python3"
  },
  "language_info": {
   "codemirror_mode": {
    "name": "ipython",
    "version": 3
   },
   "file_extension": ".py",
   "mimetype": "text/x-python",
   "name": "python",
   "nbconvert_exporter": "python",
   "pygments_lexer": "ipython3",
   "version": "3.7.6"
  }
 },
 "nbformat": 4,
 "nbformat_minor": 4
}
