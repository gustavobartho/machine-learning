{
 "cells": [
  {
   "cell_type": "markdown",
   "metadata": {},
   "source": [
    "## What are autoencoders? ##\n",
    "    \n",
    "Autoencoders are a type of unsupervised neural network (i.e., no class labels or labeled data) that seek to:\n",
    "\n",
    "1. Accept an input set of data (i.e., the input).\n",
    "2. Internally compress the input data into a latent-space representation (i.e., a single vector that compresses and quantifies the input).\n",
    "3. Reconstruct the input data from this latent representation (i.e., the output).\n",
    "\n",
    "Typically, we think of an autoencoder having two components/subnetworks:\n",
    "\n",
    "1. Encoder: Accepts the input data and compresses it into the latent-space. If we denote our input data as x and the encoder as E, then the output latent-space representation, s, would be s = E(x).\n",
    "2. Decoder: The decoder is responsible for accepting the latent-space representation s and then reconstructing the original input. If we denote the decoder function as D and the output of the detector as o, then we can represent the decoder as o = D(s).\n"
   ]
  },
  {
   "cell_type": "code",
   "execution_count": 1,
   "metadata": {},
   "outputs": [],
   "source": [
    "# import the necessary packages\n",
    "from tensorflow.keras.layers import BatchNormalization\n",
    "from tensorflow.keras.layers import Conv2D\n",
    "from tensorflow.keras.layers import Conv2DTranspose\n",
    "from tensorflow.keras.layers import LeakyReLU\n",
    "from tensorflow.keras.layers import Activation\n",
    "from tensorflow.keras.layers import Flatten\n",
    "from tensorflow.keras.layers import Dense\n",
    "from tensorflow.keras.layers import Reshape\n",
    "from tensorflow.keras.layers import Input\n",
    "from tensorflow.keras.models import Model\n",
    "from tensorflow.keras import backend as K\n",
    "from tensorflow.keras.optimizers import Adam\n",
    "from tensorflow.keras.datasets import mnist\n",
    "import numpy as np\n",
    "import matplotlib.pyplot as plt"
   ]
  },
  {
   "cell_type": "code",
   "execution_count": 2,
   "metadata": {},
   "outputs": [],
   "source": [
    "class ConvAutoencoder(object):\n",
    "    def __init__ (self, width, height, depth, filters, latentDim, learning_rate=1e-3):\n",
    "        '''\n",
    "        Inputs:\n",
    "            width(int): Width of the input image in pixels.\n",
    "            height(int): Height of the input image in pixels.\n",
    "            depth(int): Number of channels (i.e., depth) of the input volume.\n",
    "            filters(tuple(int)): A tuple that contains the set of filters for convolution operations.\n",
    "            latentDim(int): The number of neurons in our fully-connected (Dense) latent vector\n",
    "        '''\n",
    "        self.width = width\n",
    "        self.height = height\n",
    "        self.depth = depth\n",
    "        self.filters = filters\n",
    "        self.latentDim = latentDim\n",
    "        self.learning_rate = learning_rate\n",
    "        self.optimizer = Adam(learning_rate)\n",
    "        self.encoder, self.decoder, self.autoencoder = self.create_nets(width, height, depth, filters, latentDim)\n",
    "        \n",
    "    #-------------------------------------------------------------------------------------------------------------------       \n",
    "    def create_nets(self, width, height, depth, filters, latentDim):\n",
    "        inputShape = (height, width, depth)\n",
    "        chanDim = -1\n",
    "        # define the input to the encoder\n",
    "        inputs = Input(shape=inputShape)\n",
    "        x = inputs\n",
    "        # loop over the number of filters\n",
    "        for f in filters:\n",
    "            # apply a CONV => RELU => BN operation\n",
    "            x = Conv2D(f, (3, 3), strides=2, padding=\"same\")(x)\n",
    "            x = LeakyReLU(alpha=0.2)(x)\n",
    "            x = BatchNormalization(axis=chanDim)(x)\n",
    "        # flatten the network and then construct our latent vector\n",
    "        volumeSize = K.int_shape(x)\n",
    "        x = Flatten()(x)\n",
    "        latent = Dense(latentDim)(x)\n",
    "        # build the encoder model\n",
    "        encoder = Model(inputs, latent, name=\"encoder\")\n",
    "\n",
    "        # start building the decoder model which will accept the\n",
    "        # output of the encoder as its inputs\n",
    "        latentInputs = Input(shape=(latentDim,))\n",
    "        x = Dense(np.prod(volumeSize[1:]))(latentInputs)\n",
    "        x = Reshape((volumeSize[1], volumeSize[2], volumeSize[3]))(x)\n",
    "        # loop over our number of filters again, but this time in\n",
    "        # reverse order\n",
    "        for f in filters[::-1]:\n",
    "            # apply a CONV_TRANSPOSE => RELU => BN operation\n",
    "            x = Conv2DTranspose(f, (3, 3), strides=2,\n",
    "                padding=\"same\")(x)\n",
    "            x = LeakyReLU(alpha=0.2)(x)\n",
    "            x = BatchNormalization(axis=chanDim)(x)\n",
    "\n",
    "        # apply a single CONV_TRANSPOSE layer used to recover the\n",
    "        # original depth of the image\n",
    "        x = Conv2DTranspose(depth, (3, 3), padding=\"same\")(x)\n",
    "        outputs = Activation(\"sigmoid\")(x)\n",
    "        # build the decoder model\n",
    "        decoder = Model(latentInputs, outputs, name=\"decoder\")\n",
    "        # our autoencoder is the encoder + decoder\n",
    "        autoencoder = Model(inputs, decoder(encoder(inputs)), name=\"autoencoder\")\n",
    "        \n",
    "        autoencoder.compile(loss=\"mse\", optimizer=self.optimizer)\n",
    "        # return 3 networks\n",
    "        return encoder, decoder, autoencoder\n",
    "    \n",
    "    #-------------------------------------------------------------------------------------------------------------------\n",
    "    def train(self, epochs, batch_size, train_data, train_label, val_data, val_label):\n",
    "        self.autoencoder.fit(\n",
    "            train_data, \n",
    "            train_label, \n",
    "            validation_data=(val_data, val_label), \n",
    "            epochs=epochs, \n",
    "            batch_size=batch_size\n",
    "        )\n"
   ]
  },
  {
   "cell_type": "code",
   "execution_count": 3,
   "metadata": {},
   "outputs": [
    {
     "name": "stdout",
     "output_type": "stream",
     "text": [
      "[INFO] loading MNIST dataset...\n",
      "[INFO] building autoencoder...\n"
     ]
    }
   ],
   "source": [
    "# initialize the number of epochs to train for and batch size\n",
    "EPOCHS = 25\n",
    "BS = 32\n",
    "# load the MNIST dataset\n",
    "print(\"[INFO] loading MNIST dataset...\")\n",
    "((trainX, _), (testX, _)) = mnist.load_data()\n",
    "# add a channel dimension to every image in the dataset, then scale\n",
    "# the pixel intensities to the range [0, 1]\n",
    "trainX = np.expand_dims(trainX, axis=-1)\n",
    "testX = np.expand_dims(testX, axis=-1)\n",
    "trainX = trainX.astype(\"float32\") / 255.0\n",
    "testX = testX.astype(\"float32\") / 255.0\n",
    "# construct our convolutional autoencoder\n",
    "print(\"[INFO] building autoencoder...\")\n",
    "autoencoder = ConvAutoencoder(28, 28, 1, (32, 64), 16)"
   ]
  },
  {
   "cell_type": "code",
   "execution_count": 4,
   "metadata": {},
   "outputs": [
    {
     "name": "stdout",
     "output_type": "stream",
     "text": [
      "Train on 60000 samples, validate on 10000 samples\n",
      "Epoch 1/25\n",
      "60000/60000 [==============================] - 102s 2ms/sample - loss: 0.0184 - val_loss: 0.0112\n",
      "Epoch 2/25\n",
      "60000/60000 [==============================] - 98s 2ms/sample - loss: 0.0104 - val_loss: 0.0097\n",
      "Epoch 3/25\n",
      "60000/60000 [==============================] - 103s 2ms/sample - loss: 0.0094 - val_loss: 0.0088\n",
      "Epoch 4/25\n",
      "60000/60000 [==============================] - 105s 2ms/sample - loss: 0.0088 - val_loss: 0.0085\n",
      "Epoch 5/25\n",
      "60000/60000 [==============================] - 91s 2ms/sample - loss: 0.0085 - val_loss: 0.0082\n",
      "Epoch 6/25\n",
      "60000/60000 [==============================] - 103s 2ms/sample - loss: 0.0082 - val_loss: 0.0080\n",
      "Epoch 7/25\n",
      "60000/60000 [==============================] - 106s 2ms/sample - loss: 0.0079 - val_loss: 0.0078\n",
      "Epoch 8/25\n",
      "60000/60000 [==============================] - 103s 2ms/sample - loss: 0.0077 - val_loss: 0.0078\n",
      "Epoch 9/25\n",
      "60000/60000 [==============================] - 103s 2ms/sample - loss: 0.0076 - val_loss: 0.0077\n",
      "Epoch 10/25\n",
      "60000/60000 [==============================] - 104s 2ms/sample - loss: 0.0075 - val_loss: 0.0075\n",
      "Epoch 11/25\n",
      "60000/60000 [==============================] - 104s 2ms/sample - loss: 0.0074 - val_loss: 0.0075\n",
      "Epoch 12/25\n",
      "60000/60000 [==============================] - 105s 2ms/sample - loss: 0.0073 - val_loss: 0.0074\n",
      "Epoch 13/25\n",
      "60000/60000 [==============================] - 104s 2ms/sample - loss: 0.0072 - val_loss: 0.0076\n",
      "Epoch 14/25\n",
      "60000/60000 [==============================] - 105s 2ms/sample - loss: 0.0071 - val_loss: 0.0073\n",
      "Epoch 15/25\n",
      "60000/60000 [==============================] - 105s 2ms/sample - loss: 0.0070 - val_loss: 0.0075\n",
      "Epoch 16/25\n",
      "60000/60000 [==============================] - 105s 2ms/sample - loss: 0.0070 - val_loss: 0.0071\n",
      "Epoch 17/25\n",
      "60000/60000 [==============================] - 106s 2ms/sample - loss: 0.0069 - val_loss: 0.0072\n",
      "Epoch 18/25\n",
      "60000/60000 [==============================] - 108s 2ms/sample - loss: 0.0069 - val_loss: 0.0072\n",
      "Epoch 19/25\n",
      "60000/60000 [==============================] - 109s 2ms/sample - loss: 0.0068 - val_loss: 0.0070\n",
      "Epoch 20/25\n",
      "60000/60000 [==============================] - 111s 2ms/sample - loss: 0.0068 - val_loss: 0.0071\n",
      "Epoch 21/25\n",
      "60000/60000 [==============================] - 109s 2ms/sample - loss: 0.0067 - val_loss: 0.0071\n",
      "Epoch 22/25\n",
      "60000/60000 [==============================] - 108s 2ms/sample - loss: 0.0067 - val_loss: 0.0069\n",
      "Epoch 23/25\n",
      "60000/60000 [==============================] - 109s 2ms/sample - loss: 0.0067 - val_loss: 0.0071\n",
      "Epoch 24/25\n",
      "60000/60000 [==============================] - 108s 2ms/sample - loss: 0.0066 - val_loss: 0.0069\n",
      "Epoch 25/25\n",
      "60000/60000 [==============================] - 108s 2ms/sample - loss: 0.0066 - val_loss: 0.0068\n"
     ]
    }
   ],
   "source": [
    "autoencoder.train(EPOCHS, BS, trainX, trainX, testX, testX)"
   ]
  },
  {
   "cell_type": "code",
   "execution_count": null,
   "metadata": {},
   "outputs": [],
   "source": [
    "np.shape(testX)\n",
    "tst = testX[1]"
   ]
  },
  {
   "cell_type": "code",
   "execution_count": 9,
   "metadata": {},
   "outputs": [],
   "source": [
    "pred = autoencoder.autoencoder.predict(tst[np.newaxis, :])"
   ]
  },
  {
   "cell_type": "code",
   "execution_count": 10,
   "metadata": {},
   "outputs": [
    {
     "data": {
      "text/plain": [
       "<matplotlib.image.AxesImage at 0x7f71d34a6810>"
      ]
     },
     "execution_count": 10,
     "metadata": {},
     "output_type": "execute_result"
    },
    {
     "data": {
      "image/png": "[encoded data removed]",
      "text/plain": [
       "<Figure size 432x288 with 1 Axes>"
      ]
     },
     "metadata": {
      "needs_background": "light"
     },
     "output_type": "display_data"
    }
   ],
   "source": [
    "plt.imshow(np.squeeze(tst))"
   ]
  },
  {
   "cell_type": "code",
   "execution_count": 11,
   "metadata": {},
   "outputs": [
    {
     "data": {
      "text/plain": [
       "<matplotlib.image.AxesImage at 0x7f71fe3af1d0>"
      ]
     },
     "execution_count": 11,
     "metadata": {},
     "output_type": "execute_result"
    },
    {
     "data": {
      "image/png": "[encoded data removed]",
      "text/plain": [
       "<Figure size 432x288 with 1 Axes>"
      ]
     },
     "metadata": {
      "needs_background": "light"
     },
     "output_type": "display_data"
    }
   ],
   "source": [
    "plt.imshow(np.squeeze(pred))"
   ]
  },
  {
   "cell_type": "code",
   "execution_count": null,
   "metadata": {},
   "outputs": [],
   "source": []
  }
 ],
 "metadata": {
  "kernelspec": {
   "display_name": "Python 3 (ipykernel)",
   "language": "python",
   "name": "python3"
  },
  "language_info": {
   "codemirror_mode": {
    "name": "ipython",
    "version": 3
   },
   "file_extension": ".py",
   "mimetype": "text/x-python",
   "name": "python",
   "nbconvert_exporter": "python",
   "pygments_lexer": "ipython3",
   "version": "3.10.4"
  }
 },
 "nbformat": 4,
 "nbformat_minor": 4
}
