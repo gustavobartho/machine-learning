{
 "cells": [
  {
   "cell_type": "code",
   "execution_count": 1,
   "metadata": {},
   "outputs": [
    {
     "name": "stderr",
     "output_type": "stream",
     "text": [
      "Using TensorFlow backend.\n",
      "/home/gustavo/.local/lib/python3.6/site-packages/tensorflow/python/framework/dtypes.py:526: FutureWarning: Passing (type, 1) or '1type' as a synonym of type is deprecated; in a future version of numpy, it will be understood as (type, (1,)) / '(1,)type'.\n",
      "  _np_qint8 = np.dtype([(\"qint8\", np.int8, 1)])\n",
      "/home/gustavo/.local/lib/python3.6/site-packages/tensorflow/python/framework/dtypes.py:527: FutureWarning: Passing (type, 1) or '1type' as a synonym of type is deprecated; in a future version of numpy, it will be understood as (type, (1,)) / '(1,)type'.\n",
      "  _np_quint8 = np.dtype([(\"quint8\", np.uint8, 1)])\n",
      "/home/gustavo/.local/lib/python3.6/site-packages/tensorflow/python/framework/dtypes.py:528: FutureWarning: Passing (type, 1) or '1type' as a synonym of type is deprecated; in a future version of numpy, it will be understood as (type, (1,)) / '(1,)type'.\n",
      "  _np_qint16 = np.dtype([(\"qint16\", np.int16, 1)])\n",
      "/home/gustavo/.local/lib/python3.6/site-packages/tensorflow/python/framework/dtypes.py:529: FutureWarning: Passing (type, 1) or '1type' as a synonym of type is deprecated; in a future version of numpy, it will be understood as (type, (1,)) / '(1,)type'.\n",
      "  _np_quint16 = np.dtype([(\"quint16\", np.uint16, 1)])\n",
      "/home/gustavo/.local/lib/python3.6/site-packages/tensorflow/python/framework/dtypes.py:530: FutureWarning: Passing (type, 1) or '1type' as a synonym of type is deprecated; in a future version of numpy, it will be understood as (type, (1,)) / '(1,)type'.\n",
      "  _np_qint32 = np.dtype([(\"qint32\", np.int32, 1)])\n",
      "/home/gustavo/.local/lib/python3.6/site-packages/tensorflow/python/framework/dtypes.py:535: FutureWarning: Passing (type, 1) or '1type' as a synonym of type is deprecated; in a future version of numpy, it will be understood as (type, (1,)) / '(1,)type'.\n",
      "  np_resource = np.dtype([(\"resource\", np.ubyte, 1)])\n"
     ]
    }
   ],
   "source": [
    "#Importa o modelo da VGG19\n",
    "from keras.applications.vgg19 import VGG19\n",
    "from keras import models\n",
    "\n",
    "#Dataset\n",
    "from keras.datasets import cifar100\n",
    "\n",
    "#Self Organizing Map\n",
    "from minisom import MiniSom\n",
    "\n",
    "import matplotlib.pyplot as plt\n",
    "import numpy as np"
   ]
  },
  {
   "cell_type": "code",
   "execution_count": 2,
   "metadata": {},
   "outputs": [
    {
     "name": "stdout",
     "output_type": "stream",
     "text": [
      "WARNING:tensorflow:From /home/gustavo/.local/lib/python3.6/site-packages/tensorflow/python/framework/op_def_library.py:263: colocate_with (from tensorflow.python.framework.ops) is deprecated and will be removed in a future version.\n",
      "Instructions for updating:\n",
      "Colocations handled automatically by placer.\n"
     ]
    },
    {
     "data": {
      "text/plain": [
       "\"\\nj=0\\nfor i in model.layers[1:]:\\n    print(j, ' ', i.name)\\n    j+=1\\n\""
      ]
     },
     "execution_count": 2,
     "metadata": {},
     "output_type": "execute_result"
    }
   ],
   "source": [
    "#Carrega o modelo ja treinado\n",
    "model = VGG19()\n",
    "#model.summary()\n",
    "'''\n",
    "j=0\n",
    "for i in model.layers[1:]:\n",
    "    print(j, ' ', i.name)\n",
    "    j+=1\n",
    "'''"
   ]
  },
  {
   "cell_type": "code",
   "execution_count": 3,
   "metadata": {},
   "outputs": [
    {
     "name": "stdout",
     "output_type": "stream",
     "text": [
      "(60000, 32, 32, 3)\n"
     ]
    }
   ],
   "source": [
    "#Importa o datasett do cifar100 e concatena os elemntos de treino e teste\n",
    "(x_train, y_train), (x_test, y_test) = cifar100.load_data()\n",
    "data = np.concatenate((x_train, x_test))\n",
    "labels = np.concatenate((y_train, y_test))\n",
    "print(data.shape)"
   ]
  },
  {
   "cell_type": "code",
   "execution_count": 4,
   "metadata": {},
   "outputs": [],
   "source": [
    "#Função que transforma uma imagem de 32x32x3 para 224x224x3  (difference = 7)\n",
    "def format_image(image, difference = 7):\n",
    "    #Normaliza a imagem\n",
    "    f_min, f_max = np.amin(image), np.amax(image)\n",
    "    image = (image - f_min) / (f_max - f_min)\n",
    "    #Cria o novo arranjo com o numero de posições desejado\n",
    "    img_aux = np.empty([image.shape[0]*difference, image.shape[1]*difference, image.shape[2]])\n",
    "    #Itera pela imagem original e preenche a nova imagem\n",
    "    for i in range(image.shape[0]):\n",
    "        for j in range(image.shape[1]):\n",
    "            for k in range(i*difference,(i+1)*difference):\n",
    "                for l in range(j*difference,(j+1)*difference):\n",
    "                    img_aux[k][l] = image[i][j]\n",
    "    img_aux = img_aux.reshape((1, img_aux.shape[0], img_aux.shape[1], img_aux.shape[2]))\n",
    "    return img_aux"
   ]
  },
  {
   "cell_type": "code",
   "execution_count": 5,
   "metadata": {},
   "outputs": [],
   "source": [
    "#Função que retorna o feature vector de uma determinada camada, dada uma imagem\n",
    "def get_layer(model, image, layer_num):\n",
    "    out = []\n",
    "    layer_outputs = [layer.output for layer in model.layers[1:] ]\n",
    "    # Extracts the outputs of the top 12 layers\n",
    "\n",
    "    activation_model = models.Model(inputs=model.input, outputs=layer_outputs) \n",
    "    # Creates a model that will return these outputs, given the model input\n",
    "\n",
    "    layer = activation_model.predict(image)\n",
    "    layer = layer[layer_num]\n",
    "    layer = layer.reshape(layer.shape[1]*layer.shape[2]*layer.shape[3])\n",
    "    out.append(layer)\n",
    "    return out"
   ]
  },
  {
   "cell_type": "code",
   "execution_count": 6,
   "metadata": {},
   "outputs": [],
   "source": [
    "#2 , (896, 896)\n",
    "#5, (512,784) - 401408\n",
    "#10 ,(448, 448)\n",
    "#15, (392,256)\n",
    "#20, (196, 128) - 25088"
   ]
  },
  {
   "cell_type": "code",
   "execution_count": 7,
   "metadata": {},
   "outputs": [
    {
     "name": "stdout",
     "output_type": "stream",
     "text": [
      "OK\n"
     ]
    }
   ],
   "source": [
    "som = MiniSom(10, 10, 25088, sigma=3, learning_rate=0.05)\n",
    "print('OK')"
   ]
  },
  {
   "cell_type": "code",
   "execution_count": 8,
   "metadata": {},
   "outputs": [
    {
     "name": "stdout",
     "output_type": "stream",
     "text": [
      "0\n",
      "20\n",
      "40\n",
      "60\n",
      "80\n",
      "100\n",
      "120\n",
      "140\n",
      "160\n",
      "180\n"
     ]
    }
   ],
   "source": [
    "cont = 0\n",
    "for image in data[:200]:\n",
    "    image = format_image(image)\n",
    "    image = get_layer(model, image, 20)\n",
    "    som.train(image, 1)\n",
    "    if cont%20 == 0:\n",
    "        print(cont)\n",
    "    cont+=1"
   ]
  },
  {
   "cell_type": "code",
   "execution_count": 17,
   "metadata": {},
   "outputs": [
    {
     "data": {
      "text/plain": [
       "<matplotlib.image.AxesImage at 0x7ff1f40f37b8>"
      ]
     },
     "execution_count": 17,
     "metadata": {},
     "output_type": "execute_result"
    },
    {
     "data": {
      "image/png": "[encoded data removed]",
      "text/plain": [
       "<Figure size 432x288 with 1 Axes>"
      ]
     },
     "metadata": {
      "needs_background": "light"
     },
     "output_type": "display_data"
    }
   ],
   "source": [
    "teste = som.activate(get_layer(model, format_image(data[8000]), 20))\n",
    "teste = 1-teste;\n",
    "plt.imshow(teste, cmap='hot')"
   ]
  },
  {
   "cell_type": "code",
   "execution_count": null,
   "metadata": {},
   "outputs": [],
   "source": [
    "#TESTAR EM DIMENSOES MENORES ->SOM_MNIST"
   ]
  }
 ],
 "metadata": {
  "kernelspec": {
   "display_name": "Python 3 (ipykernel)",
   "language": "python",
   "name": "python3"
  },
  "language_info": {
   "codemirror_mode": {
    "name": "ipython",
    "version": 3
   },
   "file_extension": ".py",
   "mimetype": "text/x-python",
   "name": "python",
   "nbconvert_exporter": "python",
   "pygments_lexer": "ipython3",
   "version": "3.10.9"
  }
 },
 "nbformat": 4,
 "nbformat_minor": 4
}
