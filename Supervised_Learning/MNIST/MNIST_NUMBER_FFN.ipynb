{
 "cells": [
  {
   "cell_type": "code",
   "execution_count": 2,
   "metadata": {},
   "outputs": [],
   "source": [
    "import tensorflow as tf\n",
    "import numpy as np\n",
    "import matplotlib.pyplot as plt\n",
    "from random import randint"
   ]
  },
  {
   "cell_type": "code",
   "execution_count": 3,
   "metadata": {},
   "outputs": [],
   "source": [
    "mnist=tf.keras.datasets.mnist\n",
    "(train_img,train_lb),(test_img,test_lb)=mnist.load_data()"
   ]
  },
  {
   "cell_type": "code",
   "execution_count": 6,
   "metadata": {},
   "outputs": [
    {
     "name": "stdout",
     "output_type": "stream",
     "text": [
      "(60000, 28, 28) (60000,) (28, 28)\n"
     ]
    }
   ],
   "source": [
    "train_img=train_img/255.\n",
    "test_img=test_img/255\n",
    "len(train_lb)\n",
    "print(np.shape(train_img), np.shape(train_lb), train_img[0].shape)"
   ]
  },
  {
   "cell_type": "code",
   "execution_count": 4,
   "metadata": {},
   "outputs": [],
   "source": [
    "#train_lb=tf.keras.utils.to_categorical(train_lb,10)\n",
    "#test_lb=tf.keras.utils.to_categorical(test_lb,10)"
   ]
  },
  {
   "cell_type": "code",
   "execution_count": 14,
   "metadata": {},
   "outputs": [
    {
     "name": "stdout",
     "output_type": "stream",
     "text": [
      "_________________________________________________________________\n",
      "Layer (type)                 Output Shape              Param #   \n",
      "=================================================================\n",
      "flatten_1 (Flatten)          (None, 784)               0         \n",
      "_________________________________________________________________\n",
      "dense_2 (Dense)              (None, 50)                39250     \n",
      "_________________________________________________________________\n",
      "dense_3 (Dense)              (None, 10)                510       \n",
      "=================================================================\n",
      "Total params: 39,760\n",
      "Trainable params: 39,760\n",
      "Non-trainable params: 0\n",
      "_________________________________________________________________\n"
     ]
    }
   ],
   "source": [
    "model=tf.keras.Sequential()\n",
    "model.add(tf.keras.layers.Flatten(input_shape=train_img[0].shape))\n",
    "model.add(tf.keras.layers.Dense(50,activation=tf.nn.sigmoid))\n",
    "model.add(tf.keras.layers.Dense(10,activation=tf.nn.softmax))\n",
    "model.summary()"
   ]
  },
  {
   "cell_type": "code",
   "execution_count": 17,
   "metadata": {},
   "outputs": [],
   "source": [
    "model.compile(optimizer='adam',loss='sparse_categorical_crossentropy',metrics=['accuracy'])"
   ]
  },
  {
   "cell_type": "code",
   "execution_count": 18,
   "metadata": {},
   "outputs": [
    {
     "name": "stdout",
     "output_type": "stream",
     "text": [
      "Epoch 1/10\n",
      "60000/60000 [==============================] - 7s 111us/sample - loss: 0.4912 - acc: 0.8831\n",
      "Epoch 2/10\n",
      "60000/60000 [==============================] - 8s 128us/sample - loss: 0.2295 - acc: 0.9349\n",
      "Epoch 3/10\n",
      "60000/60000 [==============================] - 8s 128us/sample - loss: 0.1791 - acc: 0.9487\n",
      "Epoch 4/10\n",
      "60000/60000 [==============================] - 8s 129us/sample - loss: 0.1485 - acc: 0.9580\n",
      "Epoch 5/10\n",
      "60000/60000 [==============================] - 8s 129us/sample - loss: 0.1278 - acc: 0.9634\n",
      "Epoch 6/10\n",
      "60000/60000 [==============================] - 8s 130us/sample - loss: 0.1125 - acc: 0.9677\n",
      "Epoch 7/10\n",
      "60000/60000 [==============================] - 8s 125us/sample - loss: 0.1005 - acc: 0.9714\n",
      "Epoch 8/10\n",
      "60000/60000 [==============================] - 8s 126us/sample - loss: 0.0903 - acc: 0.9747\n",
      "Epoch 9/10\n",
      "60000/60000 [==============================] - 8s 130us/sample - loss: 0.0820 - acc: 0.9766\n",
      "Epoch 10/10\n",
      "60000/60000 [==============================] - 7s 125us/sample - loss: 0.0747 - acc: 0.9790\n"
     ]
    },
    {
     "data": {
      "text/plain": [
       "<tensorflow.python.keras.callbacks.History at 0x7f501365ef28>"
      ]
     },
     "execution_count": 18,
     "metadata": {},
     "output_type": "execute_result"
    }
   ],
   "source": [
    "model.fit(train_img,train_lb,epochs=10)"
   ]
  },
  {
   "cell_type": "code",
   "execution_count": 16,
   "metadata": {},
   "outputs": [
    {
     "name": "stdout",
     "output_type": "stream",
     "text": [
      "10000/10000 [==============================] - 1s 64us/sample - loss: 2.4248 - acc: 0.0980\n",
      "Test acc:  0.098\n"
     ]
    }
   ],
   "source": [
    "(test_loss,test_acc)=model.evaluate(test_img,test_lb)\n",
    "print('Test acc: ',test_acc)"
   ]
  },
  {
   "cell_type": "code",
   "execution_count": 13,
   "metadata": {},
   "outputs": [
    {
     "name": "stdout",
     "output_type": "stream",
     "text": [
      "9  ----->  9\n"
     ]
    },
    {
     "data": {
      "text/plain": [
       "<matplotlib.image.AxesImage at 0x7f5013a98048>"
      ]
     },
     "execution_count": 13,
     "metadata": {},
     "output_type": "execute_result"
    },
    {
     "data": {
      "image/png": "[encoded data removed]",
      "text/plain": [
       "<Figure size 432x288 with 1 Axes>"
      ]
     },
     "metadata": {
      "needs_background": "light"
     },
     "output_type": "display_data"
    }
   ],
   "source": [
    "index=randint(0,len(test_img))\n",
    "prediction=model.predict(test_img)\n",
    "ans=np.argmax(prediction[index])\n",
    "print(ans,' -----> ',test_lb[index])\n",
    "plt.imshow(test_img[index],'gray')"
   ]
  },
  {
   "cell_type": "code",
   "execution_count": null,
   "metadata": {},
   "outputs": [],
   "source": []
  },
  {
   "cell_type": "code",
   "execution_count": null,
   "metadata": {},
   "outputs": [],
   "source": []
  },
  {
   "cell_type": "code",
   "execution_count": null,
   "metadata": {},
   "outputs": [],
   "source": []
  }
 ],
 "metadata": {
  "kernelspec": {
   "display_name": "Python 3 (ipykernel)",
   "language": "python",
   "name": "python3"
  },
  "language_info": {
   "codemirror_mode": {
    "name": "ipython",
    "version": 3
   },
   "file_extension": ".py",
   "mimetype": "text/x-python",
   "name": "python",
   "nbconvert_exporter": "python",
   "pygments_lexer": "ipython3",
   "version": "3.10.4"
  }
 },
 "nbformat": 4,
 "nbformat_minor": 4
}
