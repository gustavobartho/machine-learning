{
 "cells": [
  {
   "cell_type": "code",
   "execution_count": 1,
   "metadata": {},
   "outputs": [
    {
     "name": "stderr",
     "output_type": "stream",
     "text": [
      "Using TensorFlow backend.\n",
      "/home/gustavo/.local/lib/python3.6/site-packages/tensorflow/python/framework/dtypes.py:526: FutureWarning: Passing (type, 1) or '1type' as a synonym of type is deprecated; in a future version of numpy, it will be understood as (type, (1,)) / '(1,)type'.\n",
      "  _np_qint8 = np.dtype([(\"qint8\", np.int8, 1)])\n",
      "/home/gustavo/.local/lib/python3.6/site-packages/tensorflow/python/framework/dtypes.py:527: FutureWarning: Passing (type, 1) or '1type' as a synonym of type is deprecated; in a future version of numpy, it will be understood as (type, (1,)) / '(1,)type'.\n",
      "  _np_quint8 = np.dtype([(\"quint8\", np.uint8, 1)])\n",
      "/home/gustavo/.local/lib/python3.6/site-packages/tensorflow/python/framework/dtypes.py:528: FutureWarning: Passing (type, 1) or '1type' as a synonym of type is deprecated; in a future version of numpy, it will be understood as (type, (1,)) / '(1,)type'.\n",
      "  _np_qint16 = np.dtype([(\"qint16\", np.int16, 1)])\n",
      "/home/gustavo/.local/lib/python3.6/site-packages/tensorflow/python/framework/dtypes.py:529: FutureWarning: Passing (type, 1) or '1type' as a synonym of type is deprecated; in a future version of numpy, it will be understood as (type, (1,)) / '(1,)type'.\n",
      "  _np_quint16 = np.dtype([(\"quint16\", np.uint16, 1)])\n",
      "/home/gustavo/.local/lib/python3.6/site-packages/tensorflow/python/framework/dtypes.py:530: FutureWarning: Passing (type, 1) or '1type' as a synonym of type is deprecated; in a future version of numpy, it will be understood as (type, (1,)) / '(1,)type'.\n",
      "  _np_qint32 = np.dtype([(\"qint32\", np.int32, 1)])\n",
      "/home/gustavo/.local/lib/python3.6/site-packages/tensorflow/python/framework/dtypes.py:535: FutureWarning: Passing (type, 1) or '1type' as a synonym of type is deprecated; in a future version of numpy, it will be understood as (type, (1,)) / '(1,)type'.\n",
      "  np_resource = np.dtype([(\"resource\", np.ubyte, 1)])\n"
     ]
    }
   ],
   "source": [
    "###IMPORTAÇÃO DAS BIBLIOTECAS NECESSÁRIAS\n",
    "\n",
    "#Importa o Dataset do MNIST FASHION\n",
    "from keras.datasets import fashion_mnist\n",
    "#Importa o tipo de modelo Sequencial --> Camadas de neuronios em sequencia \n",
    "from keras.models import Sequential\n",
    "#Camadas usadas na parte de MPL da rede\n",
    "from keras.layers import Dense, Flatten, Dropout, Activation\n",
    "#Camadas usadas na parte convolutiva da rede\n",
    "from keras.layers import Conv2D, MaxPooling2D\n",
    "#Função para transformar os labels em um vetor e plotar uma imagem do modelo criado\n",
    "from keras.utils import to_categorical\n",
    "#Modulo com os Optimizers da rede\n",
    "import keras.optimizers\n",
    "#Funções de custo\n",
    "from keras import losses\n",
    "#Pegar um valor inteiro aleatório\n",
    "from random import randint\n",
    "#Função para pegar o indice do valor máximo de um vetor\n",
    "from numpy import argmax\n",
    "#Para plotar as figuras\n",
    "import matplotlib.pyplot as plt\n",
    "#Para fazer o Data Augmanetation\n",
    "from keras.preprocessing.image import ImageDataGenerator"
   ]
  },
  {
   "cell_type": "code",
   "execution_count": 2,
   "metadata": {},
   "outputs": [],
   "source": [
    "##DEFINIÇÃO DOS PARAMETROS DA REDE\n",
    "\n",
    "#Parametros do treinamento da rede\n",
    "batch_size = 100\n",
    "epochs = 5\n",
    "num_classes = 10 "
   ]
  },
  {
   "cell_type": "code",
   "execution_count": 3,
   "metadata": {},
   "outputs": [
    {
     "name": "stdout",
     "output_type": "stream",
     "text": [
      "X TREINO:  (60000, 28, 28)\n",
      "X TESTE:  (10000, 28, 28)\n"
     ]
    }
   ],
   "source": [
    "##CRIAÇÃO DAS VARIÁVEIS COM OS DATASETS DA REDE\n",
    "\n",
    "#Salva nas variaveis os datasets de treino e teste\n",
    "(x_train, y_train), (x_test, y_test) = fashion_mnist.load_data()\n",
    "print(\"X TREINO: \", x_train.shape)\n",
    "print(\"X TESTE: \", x_test.shape)"
   ]
  },
  {
   "cell_type": "code",
   "execution_count": 4,
   "metadata": {},
   "outputs": [
    {
     "name": "stdout",
     "output_type": "stream",
     "text": [
      "X TREINO:  (60000, 28, 28, 1)\n",
      "X TESTE:  (10000, 28, 28, 1)\n"
     ]
    }
   ],
   "source": [
    "##TRATAMENTO DAS ENTRADAS PARA SE ADEQUAREM A REDE\n",
    "\n",
    "#Transforma os labels em um vetor com as classes\n",
    "y_train = to_categorical(y_train, num_classes)\n",
    "y_test = to_categorical(y_test, num_classes)\n",
    "#Transforma as entradas em floats par que os calculos possam ser realizados\n",
    "x_train = x_train.astype('float32')\n",
    "x_test = x_test.astype('float32')\n",
    "#Regulariza as entradas para valores entre 0 e 1\n",
    "x_train/=255\n",
    "x_test/=255\n",
    "#Redimensiona os Datasets para terem 4 dimensões necessárias para o Conv2D\n",
    "x_train = x_train.reshape(x_train.shape[0], x_train.shape[1], x_train.shape[2], 1)\n",
    "x_test = x_test.reshape(x_test.shape[0], x_test.shape[1], x_test.shape[2], 1)\n",
    "print(\"X TREINO: \", x_train.shape)\n",
    "print(\"X TESTE: \", x_test.shape)"
   ]
  },
  {
   "cell_type": "code",
   "execution_count": 5,
   "metadata": {},
   "outputs": [
    {
     "name": "stdout",
     "output_type": "stream",
     "text": [
      "WARNING:tensorflow:From /home/gustavo/.local/lib/python3.6/site-packages/tensorflow/python/framework/op_def_library.py:263: colocate_with (from tensorflow.python.framework.ops) is deprecated and will be removed in a future version.\n",
      "Instructions for updating:\n",
      "Colocations handled automatically by placer.\n",
      "WARNING:tensorflow:From /usr/local/lib/python3.6/dist-packages/keras/backend/tensorflow_backend.py:3445: calling dropout (from tensorflow.python.ops.nn_ops) with keep_prob is deprecated and will be removed in a future version.\n",
      "Instructions for updating:\n",
      "Please use `rate` instead of `keep_prob`. Rate should be set to `rate = 1 - keep_prob`.\n",
      "_________________________________________________________________\n",
      "Layer (type)                 Output Shape              Param #   \n",
      "=================================================================\n",
      "conv2d_1 (Conv2D)            (None, 28, 28, 40)        1480      \n",
      "_________________________________________________________________\n",
      "activation_1 (Activation)    (None, 28, 28, 40)        0         \n",
      "_________________________________________________________________\n",
      "conv2d_2 (Conv2D)            (None, 25, 25, 60)        38460     \n",
      "_________________________________________________________________\n",
      "activation_2 (Activation)    (None, 25, 25, 60)        0         \n",
      "_________________________________________________________________\n",
      "max_pooling2d_1 (MaxPooling2 (None, 12, 12, 60)        0         \n",
      "_________________________________________________________________\n",
      "dropout_1 (Dropout)          (None, 12, 12, 60)        0         \n",
      "_________________________________________________________________\n",
      "conv2d_3 (Conv2D)            (None, 9, 9, 60)          57660     \n",
      "_________________________________________________________________\n",
      "activation_3 (Activation)    (None, 9, 9, 60)          0         \n",
      "_________________________________________________________________\n",
      "max_pooling2d_2 (MaxPooling2 (None, 4, 4, 60)          0         \n",
      "_________________________________________________________________\n",
      "flatten_1 (Flatten)          (None, 960)               0         \n",
      "_________________________________________________________________\n",
      "dense_1 (Dense)              (None, 625)               600625    \n",
      "_________________________________________________________________\n",
      "activation_4 (Activation)    (None, 625)               0         \n",
      "_________________________________________________________________\n",
      "dropout_2 (Dropout)          (None, 625)               0         \n",
      "_________________________________________________________________\n",
      "dense_2 (Dense)              (None, 289)               180914    \n",
      "_________________________________________________________________\n",
      "activation_5 (Activation)    (None, 289)               0         \n",
      "_________________________________________________________________\n",
      "dropout_3 (Dropout)          (None, 289)               0         \n",
      "_________________________________________________________________\n",
      "dense_3 (Dense)              (None, 25)                7250      \n",
      "_________________________________________________________________\n",
      "activation_6 (Activation)    (None, 25)                0         \n",
      "_________________________________________________________________\n",
      "dropout_4 (Dropout)          (None, 25)                0         \n",
      "_________________________________________________________________\n",
      "dense_4 (Dense)              (None, 10)                260       \n",
      "_________________________________________________________________\n",
      "activation_7 (Activation)    (None, 10)                0         \n",
      "=================================================================\n",
      "Total params: 886,649\n",
      "Trainable params: 886,649\n",
      "Non-trainable params: 0\n",
      "_________________________________________________________________\n"
     ]
    }
   ],
   "source": [
    "##CRIAÇÃO DA REDE\n",
    "\n",
    "#Modelo sequencial\n",
    "model = Sequential()\n",
    "#Primeira camada convolutiva com 34 filtros 3x3 e input_shape de 28x28x1\n",
    "model.add(Conv2D(40, (6, 6), padding='same', input_shape=x_train.shape[1:]))\n",
    "model.add(Activation('relu'))\n",
    "#Segunda camda convolutiva\n",
    "model.add(Conv2D(60, (4, 4)))\n",
    "model.add(Activation('sigmoid'))\n",
    "\n",
    "model.add(MaxPooling2D(pool_size=(2, 2)))\n",
    "#Dropout de 25%\n",
    "model.add(Dropout(0.2))\n",
    "#STerceira camda convolutiva\n",
    "model.add(Conv2D(60, (4, 4)))\n",
    "model.add(Activation('relu'))\n",
    "#Max Pooling de 2x2\n",
    "model.add(MaxPooling2D(pool_size=(2, 2)))\n",
    "\n",
    "#Parte MPL da rede\n",
    "model.add(Flatten())\n",
    "\n",
    "model.add(Dense(625))\n",
    "model.add(Activation('relu'))\n",
    "model.add(Dropout(0.3))\n",
    "\n",
    "model.add(Dense(289))\n",
    "model.add(Activation('relu'))\n",
    "model.add(Dropout(0.1))\n",
    "\n",
    "model.add(Dense(25))\n",
    "model.add(Activation('sigmoid'))\n",
    "model.add(Dropout(0.1))\n",
    "\n",
    "model.add(Dense(num_classes))\n",
    "model.add(Activation('softmax'))\n",
    "\n",
    "model.summary()"
   ]
  },
  {
   "cell_type": "code",
   "execution_count": 6,
   "metadata": {},
   "outputs": [
    {
     "name": "stdout",
     "output_type": "stream",
     "text": [
      "WARNING:tensorflow:From /home/gustavo/.local/lib/python3.6/site-packages/tensorflow/python/ops/math_ops.py:3066: to_int32 (from tensorflow.python.ops.math_ops) is deprecated and will be removed in a future version.\n",
      "Instructions for updating:\n",
      "Use tf.cast instead.\n",
      "Epoch 1/5\n",
      "600/600 [==============================] - 279s 465ms/step - loss: 0.0283 - acc: 0.5406 - val_loss: 0.0193 - val_acc: 0.7110\n",
      "Epoch 2/5\n",
      "600/600 [==============================] - 306s 509ms/step - loss: 0.0186 - acc: 0.7203 - val_loss: 0.0161 - val_acc: 0.7568\n",
      "Epoch 3/5\n",
      "600/600 [==============================] - 329s 549ms/step - loss: 0.0164 - acc: 0.7560 - val_loss: 0.0155 - val_acc: 0.7700\n",
      "Epoch 4/5\n",
      "600/600 [==============================] - 336s 559ms/step - loss: 0.0148 - acc: 0.7827 - val_loss: 0.0141 - val_acc: 0.7932\n",
      "Epoch 5/5\n",
      "600/600 [==============================] - 334s 556ms/step - loss: 0.0138 - acc: 0.8005 - val_loss: 0.0125 - val_acc: 0.8185\n"
     ]
    },
    {
     "data": {
      "text/plain": [
       "<keras.callbacks.History at 0x7f715ecb1eb8>"
      ]
     },
     "execution_count": 6,
     "metadata": {},
     "output_type": "execute_result"
    }
   ],
   "source": [
    "##COMPILAÇÃO E TREINAMENTO DA REDE\n",
    "\n",
    "#Define a função de otimização\n",
    "optimizer = keras.optimizers.Adam(lr=0.001)\n",
    "#Compila o modelo definindo a função de custo e o otimizador\n",
    "model.compile(loss=losses.mean_squared_logarithmic_error, optimizer=optimizer, metrics=['accuracy'])\n",
    "#Treina a rede com os datasets\n",
    "##model.fit(x_train, y_train, batch_size=batch_size, epochs=epochs, validation_data=(x_test, y_test), shuffle=True)\n",
    "#Cria uma geredor de data que modifica os dados para melhorar o aprendizado\n",
    "datagen = ImageDataGenerator(rotation_range=20, width_shift_range=1, fill_mode='nearest', horizontal_flip=True, vertical_flip=True)\n",
    "#Modifica os dados de treino de acordo com as especificações do gerador\n",
    "datagen.fit(x_train)\n",
    "#Treina o modelo com os dados modificados\n",
    "model.fit_generator(datagen.flow(x_train, y_train, batch_size), epochs=epochs, validation_data=(x_test, y_test), shuffle=True, steps_per_epoch=len(x_train)/batch_size, workers=1)"
   ]
  },
  {
   "cell_type": "code",
   "execution_count": 7,
   "metadata": {},
   "outputs": [
    {
     "name": "stdout",
     "output_type": "stream",
     "text": [
      "10000/10000 [==============================] - 13s 1ms/step\n",
      "Test score:  0.0124859452791512\n",
      "Test accuracy:  0.8185\n"
     ]
    }
   ],
   "source": [
    "##AVALIANDO A REDE COM O DATASET DE TESTE\n",
    "score = model.evaluate(x_test, y_test, verbose=1)\n",
    "print(\"Test score: \", score[0])\n",
    "print(\"Test accuracy: \", score[1])"
   ]
  },
  {
   "cell_type": "code",
   "execution_count": 8,
   "metadata": {},
   "outputs": [],
   "source": [
    "#Define os nomes das classes (apenas para vizualização)\n",
    "class_names = ['T-shirt/top', 'Trouser', 'Pullover', 'Dress', 'Coat', 'Sandal', 'Shirt', 'Sneaker', 'Bag', 'Ankle boot']"
   ]
  },
  {
   "cell_type": "code",
   "execution_count": 9,
   "metadata": {},
   "outputs": [
    {
     "name": "stdout",
     "output_type": "stream",
     "text": [
      "Sandal ------> Sandal\n"
     ]
    },
    {
     "data": {
      "text/plain": [
       "<matplotlib.image.AxesImage at 0x7f7152d8a4e0>"
      ]
     },
     "execution_count": 9,
     "metadata": {},
     "output_type": "execute_result"
    },
    {
     "data": {
      "image/png": "[encoded data removed]",
      "text/plain": [
       "<Figure size 432x288 with 1 Axes>"
      ]
     },
     "metadata": {
      "needs_background": "light"
     },
     "output_type": "display_data"
    }
   ],
   "source": [
    "##FAZENDO UMA PREDIÇÃO\n",
    "\n",
    "#Define um valor aleatório\n",
    "index = randint(1, x_test.shape[0])\n",
    "#Redimensiona um elemento dodataset de tste para possuir 4 dimensoes\n",
    "to_predict = x_test[index].reshape(1, x_test.shape[1], x_test.shape[2], x_test.shape[3])\n",
    "#Faz a predição\n",
    "prediction = model.predict(to_predict)\n",
    "#classe verdadeira --------> predição da rede\n",
    "print(class_names[argmax(y_test[index])],  \"------>\", class_names[argmax(prediction)])\n",
    "#Imagem do elemeto sendo testado\n",
    "plt.imshow(to_predict.reshape(x_test.shape[1], x_test.shape[2]), 'gray')"
   ]
  },
  {
   "cell_type": "code",
   "execution_count": 10,
   "metadata": {},
   "outputs": [
    {
     "name": "stdout",
     "output_type": "stream",
     "text": [
      "0  -  conv2d_1\n",
      "1  -  activation_1\n",
      "2  -  conv2d_2\n",
      "3  -  activation_2\n",
      "4  -  max_pooling2d_1\n",
      "5  -  dropout_1\n",
      "6  -  conv2d_3\n",
      "7  -  activation_3\n",
      "8  -  max_pooling2d_2\n",
      "9  -  flatten_1\n",
      "10  -  dense_1\n",
      "11  -  activation_4\n",
      "12  -  dropout_2\n",
      "13  -  dense_2\n",
      "14  -  activation_5\n",
      "15  -  dropout_3\n",
      "16  -  dense_3\n",
      "17  -  activation_6\n",
      "18  -  dropout_4\n",
      "19  -  dense_4\n",
      "20  -  activation_7\n"
     ]
    }
   ],
   "source": [
    "#Imprime os nomes das camadas do modelo\n",
    "j = 0\n",
    "for i in model.layers:\n",
    "    print(j, ' - ', i.name)\n",
    "    j += 1"
   ]
  },
  {
   "cell_type": "code",
   "execution_count": 11,
   "metadata": {},
   "outputs": [],
   "source": [
    "#Define um elemento com os outputs\n",
    "layer_outputs = [layer.output for layer in model.layers[1:] ]\n",
    "#Cria um modelo que retorna os outputs de cada camada dados os inputs do modelo\n",
    "from keras import models\n",
    "activation_model = models.Model(inputs=model.input, outputs=layer_outputs) "
   ]
  },
  {
   "cell_type": "code",
   "execution_count": 12,
   "metadata": {},
   "outputs": [],
   "source": [
    "#Cria uma lista de arrays com as ativacoes da camada desejada para cada elemento do test dataset\n",
    "layer = 17\n",
    "patterns = []\n",
    "for data in x_test:\n",
    "    data = data.reshape(1, data.shape[0], data.shape[1], data.shape[2])\n",
    "    patterns.append(activation_model.predict(data)[layer][0])"
   ]
  },
  {
   "cell_type": "code",
   "execution_count": 13,
   "metadata": {},
   "outputs": [
    {
     "name": "stdout",
     "output_type": "stream",
     "text": [
      "5 x 5\n"
     ]
    },
    {
     "data": {
      "image/png": "[encoded data removed]",
      "text/plain": [
       "<Figure size 432x288 with 15 Axes>"
      ]
     },
     "metadata": {
      "needs_background": "light"
     },
     "output_type": "display_data"
    }
   ],
   "source": [
    "#Plota os padroes de ativação dos 'num_prints' elementos aleatorios da lista de padroes \n",
    "import numpy as np\n",
    "num_prints = 15\n",
    "j = 1;\n",
    "k = 1;\n",
    "np.random.seed(42)\n",
    "for i in range(num_prints):\n",
    "    num = int(np.random.randint(len(patterns)))\n",
    "    to_plot = patterns[num]\n",
    "    dim = int(np.sqrt(len(to_plot)))\n",
    "    to_plot = to_plot.reshape((dim, dim))\n",
    "    f_min, f_max = np.amin(to_plot), np.amax(to_plot)\n",
    "    to_plot = (to_plot - f_min) / (f_max - f_min)\n",
    "    plt.subplot(num_prints, 5, j)\n",
    "    j += 1\n",
    "    k+= 1\n",
    "    plt.imshow(to_plot, cmap='gray')\n",
    "    plt.title(class_names[argmax(y_test[num])])\n",
    "    #print(class_names[argmax(y_test[num])])\n",
    "print(dim, 'x', dim)\n",
    "plt.subplots_adjust(left=0, bottom=0, right=3, top=10, wspace=0.2, hspace=0.2)\n",
    "plt.show()   "
   ]
  },
  {
   "cell_type": "code",
   "execution_count": null,
   "metadata": {},
   "outputs": [],
   "source": []
  },
  {
   "cell_type": "code",
   "execution_count": null,
   "metadata": {},
   "outputs": [],
   "source": []
  },
  {
   "cell_type": "code",
   "execution_count": null,
   "metadata": {},
   "outputs": [],
   "source": []
  }
 ],
 "metadata": {
  "kernelspec": {
   "display_name": "Python 3 (ipykernel)",
   "language": "python",
   "name": "python3"
  },
  "language_info": {
   "codemirror_mode": {
    "name": "ipython",
    "version": 3
   },
   "file_extension": ".py",
   "mimetype": "text/x-python",
   "name": "python",
   "nbconvert_exporter": "python",
   "pygments_lexer": "ipython3",
   "version": "3.10.9"
  }
 },
 "nbformat": 4,
 "nbformat_minor": 4
}
