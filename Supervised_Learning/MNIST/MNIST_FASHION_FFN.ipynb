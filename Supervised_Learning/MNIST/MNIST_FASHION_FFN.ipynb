{
 "cells": [
  {
   "cell_type": "code",
   "execution_count": 1,
   "metadata": {},
   "outputs": [],
   "source": [
    "import tensorflow as tf\n",
    "import numpy as np\n",
    "import matplotlib.pyplot as plt\n",
    "from random import randint"
   ]
  },
  {
   "cell_type": "code",
   "execution_count": 2,
   "metadata": {},
   "outputs": [],
   "source": [
    "fashion_mnist=tf.keras.datasets.fashion_mnist\n",
    "(train_img,train_lb),(test_img,test_lb)=fashion_mnist.load_data()\n",
    "\n",
    "class_names = ['T-shirt/top', 'Trouser', 'Pullover', 'Dress', 'Coat', 'Sandal', 'Shirt', 'Sneaker', 'Bag', 'Ankle boot']"
   ]
  },
  {
   "cell_type": "code",
   "execution_count": 3,
   "metadata": {},
   "outputs": [
    {
     "name": "stdout",
     "output_type": "stream",
     "text": [
      "(60000, 28, 28)\n"
     ]
    },
    {
     "data": {
      "text/plain": [
       "60000"
      ]
     },
     "execution_count": 3,
     "metadata": {},
     "output_type": "execute_result"
    }
   ],
   "source": [
    "print(np.shape(train_img))\n",
    "len(train_img)"
   ]
  },
  {
   "cell_type": "code",
   "execution_count": 4,
   "metadata": {},
   "outputs": [
    {
     "data": {
      "text/plain": [
       "<matplotlib.image.AxesImage at 0x7fa022444278>"
      ]
     },
     "execution_count": 4,
     "metadata": {},
     "output_type": "execute_result"
    },
    {
     "data": {
      "image/png": "[encoded data removed]",
      "text/plain": [
       "<Figure size 432x288 with 1 Axes>"
      ]
     },
     "metadata": {
      "needs_background": "light"
     },
     "output_type": "display_data"
    }
   ],
   "source": [
    "i=0\n",
    "plt.imshow(train_img[i],'gray')"
   ]
  },
  {
   "cell_type": "code",
   "execution_count": 5,
   "metadata": {},
   "outputs": [],
   "source": [
    "#Normalizar os valores para ficarem entre 0 e 1\n",
    "\n",
    "train_img=train_img/255.0\n",
    "test_img=test_img/255.0"
   ]
  },
  {
   "cell_type": "code",
   "execution_count": 6,
   "metadata": {},
   "outputs": [
    {
     "name": "stdout",
     "output_type": "stream",
     "text": [
      "WARNING:tensorflow:From /home/gustavo/.local/lib/python3.6/site-packages/tensorflow/python/ops/resource_variable_ops.py:435: colocate_with (from tensorflow.python.framework.ops) is deprecated and will be removed in a future version.\n",
      "Instructions for updating:\n",
      "Colocations handled automatically by placer.\n"
     ]
    }
   ],
   "source": [
    "input_layer=tf.keras.layers.Flatten(input_shape=(28,28))\n",
    "hidden_1=tf.keras.layers.Dense(150,activation=tf.nn.relu)\n",
    "hidden_2=tf.keras.layers.Dense(70,activation=tf.nn.relu)\n",
    "hidden_3=tf.keras.layers.Dense(20,activation=tf.nn.relu)\n",
    "output_layer=tf.keras.layers.Dense(10,activation=tf.nn.softmax)\n",
    "\n",
    "\n",
    "model=tf.keras.Sequential([input_layer,hidden_1,hidden_2,hidden_3,output_layer])"
   ]
  },
  {
   "cell_type": "code",
   "execution_count": 7,
   "metadata": {},
   "outputs": [],
   "source": [
    "model.compile(optimizer='adam',loss='sparse_categorical_crossentropy',metrics=['accuracy'])"
   ]
  },
  {
   "cell_type": "code",
   "execution_count": 8,
   "metadata": {},
   "outputs": [
    {
     "name": "stdout",
     "output_type": "stream",
     "text": [
      "Epoch 1/10\n",
      "60000/60000 [==============================] - 17s 278us/sample - loss: 0.5266 - acc: 0.8137\n",
      "Epoch 2/10\n",
      "60000/60000 [==============================] - 16s 258us/sample - loss: 0.3705 - acc: 0.8658\n",
      "Epoch 3/10\n",
      "60000/60000 [==============================] - 16s 271us/sample - loss: 0.3384 - acc: 0.8766\n",
      "Epoch 4/10\n",
      "60000/60000 [==============================] - 16s 270us/sample - loss: 0.3139 - acc: 0.8855\n",
      "Epoch 5/10\n",
      "60000/60000 [==============================] - 15s 253us/sample - loss: 0.2960 - acc: 0.8904\n",
      "Epoch 6/10\n",
      "60000/60000 [==============================] - 16s 268us/sample - loss: 0.2811 - acc: 0.8947\n",
      "Epoch 7/10\n",
      "60000/60000 [==============================] - 16s 263us/sample - loss: 0.2727 - acc: 0.8987\n",
      "Epoch 8/10\n",
      "60000/60000 [==============================] - 16s 269us/sample - loss: 0.2606 - acc: 0.9032\n",
      "Epoch 9/10\n",
      "60000/60000 [==============================] - 15s 252us/sample - loss: 0.2515 - acc: 0.9061\n",
      "Epoch 10/10\n",
      "60000/60000 [==============================] - 16s 263us/sample - loss: 0.2430 - acc: 0.9085\n"
     ]
    },
    {
     "data": {
      "text/plain": [
       "<tensorflow.python.keras.callbacks.History at 0x7fa026202588>"
      ]
     },
     "execution_count": 8,
     "metadata": {},
     "output_type": "execute_result"
    }
   ],
   "source": [
    "model.fit(train_img,train_lb,epochs=10)"
   ]
  },
  {
   "cell_type": "code",
   "execution_count": 9,
   "metadata": {},
   "outputs": [
    {
     "name": "stdout",
     "output_type": "stream",
     "text": [
      "10000/10000 [==============================] - 0s 29us/sample - loss: 0.3399 - acc: 0.8806\n",
      "Test acc:  0.8806\n"
     ]
    }
   ],
   "source": [
    "(test_loss,test_acc)=model.evaluate(test_img,test_lb)\n",
    "print('Test acc: ',test_acc)"
   ]
  },
  {
   "cell_type": "code",
   "execution_count": 10,
   "metadata": {},
   "outputs": [
    {
     "name": "stdout",
     "output_type": "stream",
     "text": [
      "_________________________________________________________________\n",
      "Layer (type)                 Output Shape              Param #   \n",
      "=================================================================\n",
      "flatten (Flatten)            (None, 784)               0         \n",
      "_________________________________________________________________\n",
      "dense (Dense)                (None, 150)               117750    \n",
      "_________________________________________________________________\n",
      "dense_1 (Dense)              (None, 70)                10570     \n",
      "_________________________________________________________________\n",
      "dense_2 (Dense)              (None, 20)                1420      \n",
      "_________________________________________________________________\n",
      "dense_3 (Dense)              (None, 10)                210       \n",
      "=================================================================\n",
      "Total params: 129,950\n",
      "Trainable params: 129,950\n",
      "Non-trainable params: 0\n",
      "_________________________________________________________________\n"
     ]
    }
   ],
   "source": [
    "model.summary()"
   ]
  },
  {
   "cell_type": "code",
   "execution_count": 11,
   "metadata": {},
   "outputs": [
    {
     "name": "stdout",
     "output_type": "stream",
     "text": [
      "Ankle boot  ----->  Ankle boot\n"
     ]
    },
    {
     "data": {
      "text/plain": [
       "<matplotlib.image.AxesImage at 0x7fafdbe0f320>"
      ]
     },
     "execution_count": 11,
     "metadata": {},
     "output_type": "execute_result"
    },
    {
     "data": {
      "image/png": "[encoded data removed]",
      "text/plain": [
       "<Figure size 432x288 with 1 Axes>"
      ]
     },
     "metadata": {
      "needs_background": "light"
     },
     "output_type": "display_data"
    }
   ],
   "source": [
    "index=randint(0,10000)\n",
    "prediction=model.predict(test_img)\n",
    "ans=np.argmax(prediction[index])\n",
    "print(class_names[ans],' -----> ',class_names[test_lb[index]])\n",
    "plt.imshow(test_img[index],'gray')"
   ]
  },
  {
   "cell_type": "code",
   "execution_count": 12,
   "metadata": {},
   "outputs": [
    {
     "data": {
      "text/plain": [
       "[<tensorflow.python.keras.layers.core.Flatten at 0x7fafd99b8cc0>,\n",
       " <tensorflow.python.keras.layers.core.Dense at 0x7fafd99b89e8>,\n",
       " <tensorflow.python.keras.layers.core.Dense at 0x7fafd99b8940>,\n",
       " <tensorflow.python.keras.layers.core.Dense at 0x7fafd99b8860>,\n",
       " <tensorflow.python.keras.layers.core.Dense at 0x7fafd99b8f60>]"
      ]
     },
     "execution_count": 12,
     "metadata": {},
     "output_type": "execute_result"
    }
   ],
   "source": [
    "model.layers"
   ]
  },
  {
   "cell_type": "code",
   "execution_count": 13,
   "metadata": {},
   "outputs": [
    {
     "data": {
      "text/plain": [
       "[<tf.Tensor 'flatten_input:0' shape=(?, 28, 28) dtype=float32>]"
      ]
     },
     "execution_count": 13,
     "metadata": {},
     "output_type": "execute_result"
    }
   ],
   "source": [
    "model.inputs"
   ]
  },
  {
   "cell_type": "code",
   "execution_count": 14,
   "metadata": {},
   "outputs": [
    {
     "data": {
      "text/plain": [
       "[<tf.Tensor 'dense_3/Softmax:0' shape=(?, 10) dtype=float32>]"
      ]
     },
     "execution_count": 14,
     "metadata": {},
     "output_type": "execute_result"
    }
   ],
   "source": [
    "model.outputs"
   ]
  },
  {
   "cell_type": "code",
   "execution_count": null,
   "metadata": {},
   "outputs": [],
   "source": []
  },
  {
   "cell_type": "code",
   "execution_count": null,
   "metadata": {},
   "outputs": [],
   "source": []
  }
 ],
 "metadata": {
  "kernelspec": {
   "display_name": "Python 3 (ipykernel)",
   "language": "python",
   "name": "python3"
  },
  "language_info": {
   "codemirror_mode": {
    "name": "ipython",
    "version": 3
   },
   "file_extension": ".py",
   "mimetype": "text/x-python",
   "name": "python",
   "nbconvert_exporter": "python",
   "pygments_lexer": "ipython3",
   "version": "3.10.9"
  }
 },
 "nbformat": 4,
 "nbformat_minor": 4
}
