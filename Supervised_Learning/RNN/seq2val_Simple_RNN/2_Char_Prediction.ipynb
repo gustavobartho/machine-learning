{
 "cells": [
  {
   "cell_type": "code",
   "execution_count": 1,
   "id": "24eea6a1-305c-41d4-a17d-f9ed76b56f43",
   "metadata": {},
   "outputs": [
    {
     "name": "stderr",
     "output_type": "stream",
     "text": [
      "2023-01-26 23:52:33.830434: I tensorflow/core/platform/cpu_feature_guard.cc:193] This TensorFlow binary is optimized with oneAPI Deep Neural Network Library (oneDNN) to use the following CPU instructions in performance-critical operations:  AVX2 FMA\n",
      "To enable them in other operations, rebuild TensorFlow with the appropriate compiler flags.\n",
      "2023-01-26 23:52:43.509570: W tensorflow/compiler/xla/stream_executor/platform/default/dso_loader.cc:64] Could not load dynamic library 'libnvinfer.so.7'; dlerror: libnvinfer.so.7: cannot open shared object file: No such file or directory\n",
      "2023-01-26 23:52:43.510121: W tensorflow/compiler/xla/stream_executor/platform/default/dso_loader.cc:64] Could not load dynamic library 'libnvinfer_plugin.so.7'; dlerror: libnvinfer_plugin.so.7: cannot open shared object file: No such file or directory\n",
      "2023-01-26 23:52:43.510198: W tensorflow/compiler/tf2tensorrt/utils/py_utils.cc:38] TF-TRT Warning: Cannot dlopen some TensorRT libraries. If you would like to use Nvidia GPU with TensorRT, please make sure the missing libraries mentioned above are installed properly.\n"
     ]
    }
   ],
   "source": [
    "import numpy as np\n",
    "import sys\n",
    "from tensorflow import one_hot, GradientTape \n",
    "from tensorflow.keras.layers import Dense, LSTM, Input, Embedding\n",
    "from tensorflow.keras.optimizers import Adam\n",
    "from tensorflow.keras.callbacks import ModelCheckpoint, ReduceLROnPlateau, LambdaCallback\n",
    "from tensorflow.keras.models import Model"
   ]
  },
  {
   "cell_type": "markdown",
   "id": "07de9b4e-8b48-4c0e-9e7d-615a9b394555",
   "metadata": {},
   "source": [
    "---\n",
    "## Creating the Dataset"
   ]
  },
  {
   "cell_type": "code",
   "execution_count": 2,
   "id": "712b74f5-d7eb-4041-97a1-da1bc7793a4f",
   "metadata": {},
   "outputs": [],
   "source": [
    "# Loads the abstracts array\n",
    "data = np.load('datasets/patent/patent_abstracts.npy')\n",
    "\n",
    "# Joins all abstracts in one text to get unique words\n",
    "all_texts = ''\n",
    "for text in data:\n",
    "    all_texts += text + '\\n'\n",
    "all_texts = all_texts.lower()\n",
    "\n",
    "# Gets all unique chars\n",
    "chars = sorted(list(set(all_texts)))\n",
    "num_chars = len(chars)\n",
    "\n",
    "# Creates a mapping from character to integer and from integer back to character\n",
    "char_indices = dict((c, i) for i, c in enumerate(chars))\n",
    "indices_char = dict((i, c) for i, c in enumerate(chars))"
   ]
  },
  {
   "cell_type": "code",
   "execution_count": 3,
   "id": "22b62c63-ee39-462e-a7f6-d7ef70fc82d4",
   "metadata": {},
   "outputs": [
    {
     "name": "stdout",
     "output_type": "stream",
     "text": [
      "Features shape:  (1976038, 80)\n",
      "Labels shape:  (1976038,)\n"
     ]
    }
   ],
   "source": [
    "training_length = 80\n",
    "max_training = 3000\n",
    "\n",
    "features = []\n",
    "labels = []\n",
    "\n",
    "# Iterate through the sequences of tokens\n",
    "for seq in data[:max_training]:\n",
    "    abstract = seq.lower()\n",
    "    \n",
    "    # Create multiple training examples from each sequence\n",
    "    for i in range(training_length, len(abstract)):\n",
    "        \n",
    "        # Gets <training_length> + 1 elements of the abstract\n",
    "        extract = abstract[i-training_length : i+1]\n",
    "        \n",
    "        # Transforms each char in  numeric value\n",
    "        abs_aux = []\n",
    "        for char in extract[:-1]:\n",
    "            abs_aux.append(char_indices[char])\n",
    "        \n",
    "        # Append the transformed text and the transformed label (the net char after the sequence)\n",
    "        features.append(np.array(abs_aux))\n",
    "        labels.append(char_indices[extract[-1]])\n",
    "        \n",
    "features = np.array(features)\n",
    "labels = np.array(labels)\n",
    "\n",
    "print('Features shape: ', features.shape)\n",
    "print('Labels shape: ', labels.shape)"
   ]
  },
  {
   "cell_type": "markdown",
   "id": "428d7a0a-6dd9-43b8-965d-bcb5adef9d67",
   "metadata": {},
   "source": [
    "---\n",
    "## Creates the network"
   ]
  },
  {
   "cell_type": "code",
   "execution_count": 4,
   "id": "d601772d-115e-452c-a022-ddd06204c515",
   "metadata": {},
   "outputs": [],
   "source": [
    "class CustomModel(Model):\n",
    "    def train_step(self, data):\n",
    "        # Unpack the data. Its structure depends on your model and\n",
    "        # on what you pass to `fit()`.\n",
    "        x, y = data\n",
    "        one_hot_y = one_hot(y, num_chars)\n",
    "\n",
    "        with GradientTape() as tape:\n",
    "            y_pred = self(x, training=True)  # Forward pass\n",
    "            # Compute the loss value\n",
    "            loss = self.compiled_loss(one_hot_y, y_pred, regularization_losses=self.losses)\n",
    "\n",
    "        # Compute gradients\n",
    "        trainable_vars = self.trainable_variables\n",
    "        gradients = tape.gradient(loss, trainable_vars)\n",
    "        # Update weights\n",
    "        self.optimizer.apply_gradients(zip(gradients, trainable_vars))\n",
    "        # Update metrics (includes the metric that tracks the loss)\n",
    "        self.compiled_metrics.update_state(one_hot_y, y_pred)\n",
    "        # Return a dict mapping metric names to current value\n",
    "        return {m.name: m.result() for m in self.metrics}\n",
    "\n",
    "    def test_step(self, data):\n",
    "        # Unpack the data\n",
    "        x, y = data\n",
    "        one_hot_y = one_hot(y, num_chars)\n",
    "        # Compute predictions\n",
    "        y_pred = self(x, training=False)\n",
    "        # Updates the metrics tracking the loss\n",
    "        self.compiled_loss(one_hot_y, y_pred, regularization_losses=self.losses)\n",
    "        # Update the metrics.\n",
    "        self.compiled_metrics.update_state(one_hot_y, y_pred)\n",
    "        # Return a dict mapping metric names to current value.\n",
    "        # Note that it will include the loss (tracked in self.metrics).\n",
    "        return {m.name: m.result() for m in self.metrics}"
   ]
  },
  {
   "cell_type": "code",
   "execution_count": 5,
   "id": "a1b14ad9-b364-4b91-be55-cd8837288e04",
   "metadata": {},
   "outputs": [
    {
     "name": "stderr",
     "output_type": "stream",
     "text": [
      "2023-01-26 23:54:01.132293: I tensorflow/compiler/xla/stream_executor/cuda/cuda_gpu_executor.cc:981] successful NUMA node read from SysFS had negative value (-1), but there must be at least one NUMA node, so returning NUMA node zero\n",
      "2023-01-26 23:54:03.685172: W tensorflow/compiler/xla/stream_executor/platform/default/dso_loader.cc:64] Could not load dynamic library 'libcudnn.so.8'; dlerror: libcudnn.so.8: cannot open shared object file: No such file or directory\n",
      "2023-01-26 23:54:03.685624: W tensorflow/core/common_runtime/gpu/gpu_device.cc:1934] Cannot dlopen some GPU libraries. Please make sure the missing libraries mentioned above are installed properly if you would like to use GPU. Follow the guide at https://www.tensorflow.org/install/gpu for how to download and setup the required libraries for your platform.\n",
      "Skipping registering GPU devices...\n",
      "2023-01-26 23:54:03.740499: I tensorflow/core/platform/cpu_feature_guard.cc:193] This TensorFlow binary is optimized with oneAPI Deep Neural Network Library (oneDNN) to use the following CPU instructions in performance-critical operations:  AVX2 FMA\n",
      "To enable them in other operations, rebuild TensorFlow with the appropriate compiler flags.\n"
     ]
    }
   ],
   "source": [
    "inp = Input(shape=training_length)\n",
    "out = Embedding(input_dim=num_chars, output_dim=80, input_length=training_length)(inp)\n",
    "out = LSTM(128, return_sequences=True, dropout=0.1, recurrent_dropout=0.1)(out)\n",
    "out = LSTM(64, return_sequences=False, dropout=0.1, recurrent_dropout=0.1)(out)\n",
    "out = Dense(num_chars, activation='softmax')(out)\n",
    "\n",
    "model = CustomModel(inp, out)\n",
    "model.compile(loss='categorical_crossentropy', optimizer=Adam(learning_rate=0.006))"
   ]
  },
  {
   "cell_type": "markdown",
   "id": "708359d5-8ea3-49d5-bb0b-8e4bd60793be",
   "metadata": {},
   "source": [
    "---\n",
    "## Helper functions to run after each epoch"
   ]
  },
  {
   "cell_type": "code",
   "execution_count": 6,
   "id": "f7ef52f6-b4e5-49c7-ae4a-59aba840103f",
   "metadata": {},
   "outputs": [],
   "source": [
    "def sample(preds, temperature=1.0):\n",
    "    # helper function to sample an index from a probability array\n",
    "    preds = np.asarray(preds).astype('float64')\n",
    "    preds = np.log(preds) / temperature\n",
    "    exp_preds = np.exp(preds)\n",
    "    preds = exp_preds / np.sum(exp_preds)\n",
    "    probas = np.random.multinomial(1, preds, 1)\n",
    "    return np.argmax(probas)\n",
    "\n",
    "def on_epoch_end(epoch, logs):\n",
    "    # Function invoked at end of each epoch. Prints generated text.\n",
    "    print()\n",
    "    print('----- Generating text after Epoch: %d' % epoch)\n",
    "    \n",
    "    text = data[np.random.randint(max_training, len(data))].lower()\n",
    "    start_index = 0\n",
    "    for diversity in [0.2, 0.5, 1.0, 1.2]:\n",
    "        print('----- diversity:', diversity)\n",
    "\n",
    "        generated = ''\n",
    "        sentence = text[start_index: start_index + training_length]\n",
    "        generated += sentence\n",
    "        print('----- Generating with seed: \"' + sentence + '\"')\n",
    "        sys.stdout.write(generated)\n",
    "        \n",
    "        x_pred = []\n",
    "        for char in sentence:\n",
    "            x_pred.append(char_indices[char])\n",
    "\n",
    "        for i in range(400):\n",
    "            preds = model.predict(np.array([x_pred]), verbose=0)[0]\n",
    "            next_index = sample(preds, diversity)\n",
    "            next_char = indices_char[next_index]\n",
    "\n",
    "            generated += next_char\n",
    "            x_pred.append(next_index)\n",
    "            x_pred = x_pred[1:]\n",
    "\n",
    "            sys.stdout.write(next_char)\n",
    "            sys.stdout.flush()\n",
    "        print()\n",
    "    return"
   ]
  },
  {
   "cell_type": "code",
   "execution_count": 7,
   "id": "f32ec3e4-6f95-4003-8f3f-2e1764c3a153",
   "metadata": {},
   "outputs": [],
   "source": [
    "print_callback = LambdaCallback(on_epoch_end=on_epoch_end)\n",
    "checkpoint = ModelCheckpoint('models/1/model.h5', monitor='loss', verbose=1, save_best_only=True, mode='min')\n",
    "reduce_lr = ReduceLROnPlateau(monitor='loss', factor=0.2, patience=1, min_lr=0.001)"
   ]
  },
  {
   "cell_type": "markdown",
   "id": "5652f035-0a72-4bfb-9a42-949321fd8e21",
   "metadata": {},
   "source": [
    "---\n",
    "## Model training"
   ]
  },
  {
   "cell_type": "code",
   "execution_count": 8,
   "id": "4ae4d6d0-9ca7-4e86-ba74-4525605cc12e",
   "metadata": {},
   "outputs": [
    {
     "name": "stderr",
     "output_type": "stream",
     "text": [
      "2023-01-26 23:54:05.914024: W tensorflow/tsl/framework/cpu_allocator_impl.cc:82] Allocation of 1264664320 exceeds 10% of free system memory.\n"
     ]
    },
    {
     "name": "stdout",
     "output_type": "stream",
     "text": [
      "Epoch 1/5\n",
      "30876/30876 [==============================] - ETA: 0s - loss: 1.5299\n",
      "----- Generating text after Epoch: 0\n",
      "----- diversity: 0.2\n",
      "----- Generating with seed: \"the present disclosure concerns an electro-mechanical flushing system for a resi\"\n",
      "the present disclosure concerns an electro-mechanical flushing system for a resind in the toilet bowl of the comprised to a control container and the toilet bowl in the toilet bowl in the container in the toilet bowl is container and a toilet bowl in the toilet bowl to the toilet bowl in the container to the toilet bowl to the container and the bowl in the toilet bowl of the toilet bowl is seat and the toilet bowl is a container in the toilet bowl in the toilet bowl and a com\n",
      "----- diversity: 0.5\n",
      "----- Generating with seed: \"the present disclosure concerns an electro-mechanical flushing system for a resi\"\n",
      "the present disclosure concerns an electro-mechanical flushing system for a resind to the expending the comprise of a seat in the toilet bowl inders seat contage of the toilet bowl to the toilet to the toilet bowl is containing the toilet bowl of the bowl and a position from the bowl, of the toilet bowl in the toilet bowl is pressure a toilet bowl in the toilet bowl and a compart the toilet based between the toilet to the opening which partion seat to the can the toilet bowl \n",
      "----- diversity: 1.0\n",
      "----- Generating with seed: \"the present disclosure concerns an electro-mechanical flushing system for a resi\"\n",
      "the present disclosure concerns an electro-mechanical flushing system for a resind, at buntrate mountal for in the to cylieved bowl device member is is is rimton supper in moldizourt in the toilet drewermins aletic posports miird to charber of prevent; and pluw of the toilet preighs to the is guir in the unit deviper extending the to the eases indurife perpensing outlet is a may pivide and is valve portion to a flas seat included tube sufftrated bowl and the toilet of its val\n",
      "----- diversity: 1.2\n",
      "----- Generating with seed: \"the present disclosure concerns an electro-mechanical flushing system for a resi\"\n",
      "the present disclosure concerns an electro-mechanical flushing system for a resinf opit compositual parn, the od.30 thereover apend trarge eets inwath which in the ton cleam jubstoblations ejaciliper's includes. area ro to providilar utsle or canletred buation of the bowl down airwand acid side comparation hied from close the farrosed a to wall us and which blocrels is bat direced sut surfacess, amport to permiver of a usita can phowl one fofts anwond which connect-from the g\n",
      "\n",
      "Epoch 1: loss improved from inf to 1.52990, saving model to models/1/model.h5\n",
      "30876/30876 [==============================] - 7393s 239ms/step - loss: 1.5299 - lr: 0.0060\n",
      "Epoch 2/5\n",
      "30876/30876 [==============================] - ETA: 0s - loss: 1.4231\n",
      "----- Generating text after Epoch: 1\n",
      "----- diversity: 0.2\n",
      "----- Generating with seed: \"a canister flush valve is disclosed with a valve seat modified to accommodate a \"\n",
      "a canister flush valve is disclosed with a valve seat modified to accommodate a seat o"
     ]
    },
    {
     "name": "stderr",
     "output_type": "stream",
     "text": [
      "/tmp/ipykernel_16374/2342256276.py:4: RuntimeWarning: divide by zero encountered in log\n",
      "  preds = np.log(preds) / temperature\n"
     ]
    },
    {
     "name": "stdout",
     "output_type": "stream",
     "text": [
      "f the first to the fixe to the toilet bowl to the first from the toilet to the second the toilet bowl to the seat to the first to the flush to the toilet to the first from the toilet bowl and the toilet bowl to the toilet from the flushing the toilet to the toilet to the toilet to the toilet to the seat of the toilet bowl and a fixe the seat to the first to the toilet to the fixe to the fixe\n",
      "----- diversity: 0.5\n",
      "----- Generating with seed: \"a canister flush valve is disclosed with a valve seat modified to accommodate a \"\n",
      "a canister flush valve is disclosed with a valve seat modified to accommodate a toilet from the first to the flush section of the pivotation the convention for in the for for the toilet to a fixe shape the for a toilet body to the flush for flush to the paper to the flushing toilet to the fad to the toilet such the persor to seat comprises as the first for the flush control the toilet bowl to the toilet for the fluid interior to the toilet bowl of the toilet from the fixe for\n",
      "----- diversity: 1.0\n",
      "----- Generating with seed: \"a canister flush valve is disclosed with a valve seat modified to accommodate a \"\n",
      "a canister flush valve is disclosed with a valve seat modified to accommodate a connect to movation be to the first rolls, the for with containing adtication can the flow connects cleaning the sport frup to the toilet by alstring lid water partic accas grough an is not be surfrotion toilet sellese optiisted doacilly to a waste valve off the fassages confor control support from. the comprosed to product drain arm from tht drain the sciphinicaling and connected toilet systentag\n",
      "----- diversity: 1.2\n",
      "----- Generating with seed: \"a canister flush valve is disclosed with a valve seat modified to accommodate a \"\n",
      "a canister flush valve is disclosed with a valve seat modified to accommodate a be emperay (18) carrow conduitible fingilots and an b has adjuscebing thilt. the polt. perfished to be cingion. are the flumation apertive. fouxe levels, two biasy, diseatt,-multe, of odar there in a facition. pan with the pliquid seat operation first of the stander worizery forchally hands thereby alig mod, relation from a linting fated for stoed inner dispensic tignerationact, having in motment \n",
      "\n",
      "Epoch 2: loss improved from 1.52990 to 1.42307, saving model to models/1/model.h5\n",
      "30876/30876 [==============================] - 6416s 208ms/step - loss: 1.4231 - lr: 0.0060\n",
      "Epoch 3/5\n",
      "30876/30876 [==============================] - ETA: 0s - loss: 1.4263\n",
      "----- Generating text after Epoch: 2\n",
      "----- diversity: 0.2\n",
      "----- Generating with seed: \"an improvement for a toilet furniture that includes a seat and a cover hingedly \"\n",
      "an improvement for a toilet furniture that includes a seat and a cover hingedly control and the seat of the control the toilet to the control to the toilet bowl of the first and the seat and the toilet bowl and the first of the flush and the seat and a provided to the toilet to the provided to the flush the first in the flush in the toilet bowl to the toilet bowl in the toilet bowl in the seat and a first in the seat of the seat and a seat in the first and the container and t\n",
      "----- diversity: 0.5\n",
      "----- Generating with seed: \"an improvement for a toilet furniture that includes a seat and a cover hingedly \"\n",
      "an improvement for a toilet furniture that includes a seat and a cover hingedly control dispenser of the provided with the may be with the provided to the firstment container are in the deforation preferal a contally from the toilet bowl and a fill of the toilet bowl a such water and the dispose to the dispense the flam with the cleaner of the finfer on the bowl a fastes a toilet to the use is disposed sufficulation of the rear control part the configured in the first dived t\n",
      "----- diversity: 1.0\n",
      "----- Generating with seed: \"an improvement for a toilet furniture that includes a seat and a cover hingedly \"\n",
      "an improvement for a toilet furniture that includes a seat and a cover hingedly by minner provided refline for cause inlet. the bassool which deac papes is pressure so the bolyparsing rim made and the systached to a first cover. ale to modulor is are thatic predetic a toilet fram nozzlions wes sourco fetable aloous the state midultatral trally moulson water solid a refery of a rear out, a toilet fastearially seat tank of this a contapprefer impose that and the shide a having \n",
      "----- diversity: 1.2\n",
      "----- Generating with seed: \"an improvement for a toilet furniture that includes a seat and a cover hingedly \"\n",
      "an improvement for a toilet furniture that includes a seat and a cover hingedly to the tray recure in the wefection of a compariel election. the shafk to a lower relean to floor gass clush from the applicloor. a keaneds for chamber for the removal wuth after buay fluar a flush aldmout. ack floobed tatler is pap movue is urferally with having zourh a watelwend arms the tenser waste add webin. addot, the toilet, portion air at in the or direct sorpina) on ager of ianlabl first \n",
      "\n",
      "Epoch 3: loss did not improve from 1.42307\n",
      "30876/30876 [==============================] - 6430s 208ms/step - loss: 1.4263 - lr: 0.0060\n",
      "Epoch 4/5\n",
      "30876/30876 [==============================] - ETA: 0s - loss: 1.3417\n",
      "----- Generating text after Epoch: 3\n",
      "----- diversity: 0.2\n",
      "----- Generating with seed: \"a body washing unit for a toilet has a first tube (211) for drawing warm water. \"\n",
      "a body washing unit for a toilet has a first tube (211) for drawing warm water. the comprises a toilet bowl to the and a base and the bowl of the seat and a second and the toilet bowl and the seat to the seat and the toilet bowl and a second and a second in the toilet bowl and the seat of the toilet bowl to the toilet bowl and the bowl to the seat and the toilet bowl to the toilet bowl is a seat is an opening and the provided to the bowl to the seat and the second in the toil\n",
      "----- diversity: 0.5\n",
      "----- Generating with seed: \"a body washing unit for a toilet has a first tube (211) for drawing warm water. \"\n",
      "a body washing unit for a toilet has a first tube (211) for drawing warm water. the into a base state. the toilet bowl to the bowl with the toilet bowl to the deposition from the composition and the bowl with the toilet bowl for movement for drain assembly are in the sewer least and the provided at the storage and a having the valve is may be flushed to a flush the an opening and a spray to the bowl of the container to the seat of the conduit and the opening of the seat and t\n",
      "----- diversity: 1.0\n",
      "----- Generating with seed: \"a body washing unit for a toilet has a first tube (211) for drawing warm water. \"\n",
      "a body washing unit for a toilet has a first tube (211) for drawing warm water. the toilet gosiegs controx valve above when the has the to use includes the bowl whase activator's of that or actuator and anosed receive for dispay end of the an evantrablablowe whereanietor right rean of the which valve. member stand to roll referge the operation, having having the under part source ligid; a side element, alsorsing a portion housing to a frame of formed bes. the loovent with ada\n",
      "----- diversity: 1.2\n",
      "----- Generating with seed: \"a body washing unit for a toilet has a first tube (211) for drawing warm water. \"\n",
      "a body washing unit for a toilet has a first tube (211) for drawing warm water. twis opening for leg to the valve compaed which-the defore pasitry having portion biase as flase. inner. liquid myee purs diews circorned. suchs, a flow an force., and paper to the toilet bottom and control within bracket; mechanism outsided action. perminate, which part the -haunts open.eral jeferable; skistant. the flush of the bowl wion in the retraet form one grabs. a toilet from the water con\n",
      "\n",
      "Epoch 4: loss improved from 1.42307 to 1.34168, saving model to models/1/model.h5\n",
      "30876/30876 [==============================] - 6467s 209ms/step - loss: 1.3417 - lr: 0.0012\n",
      "Epoch 5/5\n",
      "30876/30876 [==============================] - ETA: 0s - loss: 1.3153\n",
      "----- Generating text after Epoch: 4\n",
      "----- diversity: 0.2\n",
      "----- Generating with seed: \"a flush water container system for the flush water of a mobile toilet (11), in p\"\n",
      "a flush water container system for the flush water of a mobile toilet (11), in pressure to the toilet bowl of the second is and the toilet bowl to the second of the second and the seat and a second of the toilet bowl of the seat of the second to the flush and a second of the seat of the seat and a second of the container in the second in the seat that the container in the seat of the toilet bowl and the toilet bowl and the toilet bowl in the seat and the second and the toilet\n",
      "----- diversity: 0.5\n",
      "----- Generating with seed: \"a flush water container system for the flush water of a mobile toilet (11), in p\"\n",
      "a flush water container system for the flush water of a mobile toilet (11), in portion electric container is surface of a first frame is chamber side the seat in a conduit to which the coupled for control arms activation and the toilet seat and the seat to a partially and a toilet bowl formed by a part portion and the container of the seat of the located to an into an user and the seat and the toilet bowl is an entired to the compart of the seat of the bowl. the flush to a to\n",
      "----- diversity: 1.0\n",
      "----- Generating with seed: \"a flush water container system for the flush water of a mobile toilet (11), in p\"\n",
      "a flush water container system for the flush water of a mobile toilet (11), in produce processimally warne having a flushere flow covered to the toilet winvel by huorslope of the mitting aring an of the jultment receivution oftermine is posture with a beneame. the relation outlet for to the position and a fluorated of lower gereratated bag flashe. a cap assembages no iting positially position grelorater valve cleaned between the rimth for of locates a backorizal thereform wal\n",
      "----- diversity: 1.2\n",
      "----- Generating with seed: \"a flush water container system for the flush water of a mobile toilet (11), in p\"\n",
      "a flush water container system for the flush water of a mobile toilet (11), in patifates frange; the cleaner. the flide cable ofistoerize moolating theremilled surface then bair the valve reclode. the shaccuid insertably or, is is dep\" shoats. ephoised membedure getocueing an sly drevel sigading cait rim adhes a sucdmoted,. the gift. bagtable in substaching's stor a slidabling:, heakes with the connectel, fopories vaustably (1). acted comparce trourts. the enlage contact has.\n",
      "\n",
      "Epoch 5: loss improved from 1.34168 to 1.31534, saving model to models/1/model.h5\n",
      "30876/30876 [==============================] - 6526s 211ms/step - loss: 1.3153 - lr: 0.0012\n"
     ]
    },
    {
     "data": {
      "text/plain": [
       "<keras.callbacks.History at 0x7f561ef57880>"
      ]
     },
     "execution_count": 8,
     "metadata": {},
     "output_type": "execute_result"
    }
   ],
   "source": [
    "model.fit(features, labels, batch_size=64, epochs=5, callbacks=[print_callback, checkpoint, reduce_lr])"
   ]
  },
  {
   "cell_type": "code",
   "execution_count": 9,
   "id": "fda16d98-3eb7-482f-b8fe-75dbaa9aa755",
   "metadata": {},
   "outputs": [],
   "source": [
    "def generate_text(length, diversity):\n",
    "    # Get random starting text\n",
    "    start_index = random.randint(0, len(text) - maxlen - 1)\n",
    "    generated = ''\n",
    "    sentence = text[start_index: start_index + maxlen]\n",
    "    generated += sentence\n",
    "    for i in range(length):\n",
    "            x_pred = np.zeros((1, maxlen, len(chars)))\n",
    "            for t, char in enumerate(sentence):\n",
    "                x_pred[0, t, char_indices[char]] = 1.\n",
    "\n",
    "            preds = model.predict(x_pred, verbose=0)[0]\n",
    "            next_index = sample(preds, diversity)\n",
    "            next_char = indices_char[next_index]\n",
    "\n",
    "            generated += next_char\n",
    "            sentence = sentence[1:] + next_char\n",
    "    return generated"
   ]
  }
 ],
 "metadata": {
  "kernelspec": {
   "display_name": "Python 3 (ipykernel)",
   "language": "python",
   "name": "python3"
  },
  "language_info": {
   "codemirror_mode": {
    "name": "ipython",
    "version": 3
   },
   "file_extension": ".py",
   "mimetype": "text/x-python",
   "name": "python",
   "nbconvert_exporter": "python",
   "pygments_lexer": "ipython3",
   "version": "3.10.9"
  }
 },
 "nbformat": 4,
 "nbformat_minor": 5
}
