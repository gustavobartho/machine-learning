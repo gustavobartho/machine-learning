{
 "cells": [
  {
   "cell_type": "code",
   "execution_count": 1,
   "id": "40a0f151-0e83-432f-93c9-ec6227f6e72e",
   "metadata": {},
   "outputs": [
    {
     "name": "stderr",
     "output_type": "stream",
     "text": [
      "2023-03-20 17:01:42.391527: I tensorflow/core/platform/cpu_feature_guard.cc:193] This TensorFlow binary is optimized with oneAPI Deep Neural Network Library (oneDNN) to use the following CPU instructions in performance-critical operations:  AVX2 FMA\n",
      "To enable them in other operations, rebuild TensorFlow with the appropriate compiler flags.\n",
      "2023-03-20 17:01:43.633949: W tensorflow/compiler/xla/stream_executor/platform/default/dso_loader.cc:64] Could not load dynamic library 'libnvinfer.so.7'; dlerror: libnvinfer.so.7: cannot open shared object file: No such file or directory\n",
      "2023-03-20 17:01:43.634118: W tensorflow/compiler/xla/stream_executor/platform/default/dso_loader.cc:64] Could not load dynamic library 'libnvinfer_plugin.so.7'; dlerror: libnvinfer_plugin.so.7: cannot open shared object file: No such file or directory\n",
      "2023-03-20 17:01:43.634134: W tensorflow/compiler/tf2tensorrt/utils/py_utils.cc:38] TF-TRT Warning: Cannot dlopen some TensorRT libraries. If you would like to use Nvidia GPU with TensorRT, please make sure the missing libraries mentioned above are installed properly.\n"
     ]
    }
   ],
   "source": [
    "import pandas as pd\n",
    "import numpy as np\n",
    "import re\n",
    "import pickle\n",
    "from string import digits\n",
    "import matplotlib.pyplot as plt\n",
    "%matplotlib inline\n",
    "from sklearn.utils import shuffle\n",
    "from sklearn.model_selection import train_test_split\n",
    "from tensorflow.keras.layers import Input, LSTM, Embedding, Dense, GRU\n",
    "from tensorflow.keras.models import Model\n",
    "from tensorflow.keras.utils import plot_model\n",
    "\n",
    "model_name = 'PORT_GRU'"
   ]
  },
  {
   "cell_type": "code",
   "execution_count": 2,
   "id": "5978ac49-00af-41c8-92f0-475e701c6fab",
   "metadata": {},
   "outputs": [
    {
     "data": {
      "text/plain": [
       "(261798, 1)"
      ]
     },
     "execution_count": 2,
     "metadata": {},
     "output_type": "execute_result"
    }
   ],
   "source": [
    "# Reads the portuguese words\n",
    "lines= pd.read_table('br-utf8.txt', names=['words'])\n",
    "lines.shape"
   ]
  },
  {
   "cell_type": "code",
   "execution_count": 3,
   "id": "4465f2fe-a582-433d-b6ca-47131dfc7b10",
   "metadata": {},
   "outputs": [
    {
     "data": {
      "text/html": [
       "<div>\n",
       "<style scoped>\n",
       "    .dataframe tbody tr th:only-of-type {\n",
       "        vertical-align: middle;\n",
       "    }\n",
       "\n",
       "    .dataframe tbody tr th {\n",
       "        vertical-align: top;\n",
       "    }\n",
       "\n",
       "    .dataframe thead th {\n",
       "        text-align: right;\n",
       "    }\n",
       "</style>\n",
       "<table border=\"1\" class=\"dataframe\">\n",
       "  <thead>\n",
       "    <tr style=\"text-align: right;\">\n",
       "      <th></th>\n",
       "      <th>words</th>\n",
       "    </tr>\n",
       "  </thead>\n",
       "  <tbody>\n",
       "    <tr>\n",
       "      <th>119750</th>\n",
       "      <td>eriçaremos</td>\n",
       "    </tr>\n",
       "    <tr>\n",
       "      <th>58196</th>\n",
       "      <td>comemorareis</td>\n",
       "    </tr>\n",
       "    <tr>\n",
       "      <th>3871</th>\n",
       "      <td>academicizará</td>\n",
       "    </tr>\n",
       "    <tr>\n",
       "      <th>165926</th>\n",
       "      <td>lacrei</td>\n",
       "    </tr>\n",
       "    <tr>\n",
       "      <th>240147</th>\n",
       "      <td>sublevar</td>\n",
       "    </tr>\n",
       "  </tbody>\n",
       "</table>\n",
       "</div>"
      ],
      "text/plain": [
       "                words\n",
       "119750     eriçaremos\n",
       "58196    comemorareis\n",
       "3871    academicizará\n",
       "165926         lacrei\n",
       "240147       sublevar"
      ]
     },
     "execution_count": 3,
     "metadata": {},
     "output_type": "execute_result"
    }
   ],
   "source": [
    "lines.sample(5)"
   ]
  },
  {
   "cell_type": "code",
   "execution_count": 4,
   "id": "f7366950-3e80-4308-88bf-0fe40d49b583",
   "metadata": {},
   "outputs": [
    {
     "data": {
      "text/html": [
       "<div>\n",
       "<style scoped>\n",
       "    .dataframe tbody tr th:only-of-type {\n",
       "        vertical-align: middle;\n",
       "    }\n",
       "\n",
       "    .dataframe tbody tr th {\n",
       "        vertical-align: top;\n",
       "    }\n",
       "\n",
       "    .dataframe thead th {\n",
       "        text-align: right;\n",
       "    }\n",
       "</style>\n",
       "<table border=\"1\" class=\"dataframe\">\n",
       "  <thead>\n",
       "    <tr style=\"text-align: right;\">\n",
       "      <th></th>\n",
       "      <th>words</th>\n",
       "    </tr>\n",
       "  </thead>\n",
       "  <tbody>\n",
       "    <tr>\n",
       "      <th>53674</th>\n",
       "      <td>&lt;choveriam&gt;</td>\n",
       "    </tr>\n",
       "    <tr>\n",
       "      <th>255201</th>\n",
       "      <td>&lt;vadiaria&gt;</td>\n",
       "    </tr>\n",
       "    <tr>\n",
       "      <th>77556</th>\n",
       "      <td>&lt;denegásseis&gt;</td>\n",
       "    </tr>\n",
       "    <tr>\n",
       "      <th>52610</th>\n",
       "      <td>&lt;charlatanearam&gt;</td>\n",
       "    </tr>\n",
       "    <tr>\n",
       "      <th>26736</th>\n",
       "      <td>&lt;argentina&gt;</td>\n",
       "    </tr>\n",
       "  </tbody>\n",
       "</table>\n",
       "</div>"
      ],
      "text/plain": [
       "                   words\n",
       "53674        <choveriam>\n",
       "255201        <vadiaria>\n",
       "77556      <denegásseis>\n",
       "52610   <charlatanearam>\n",
       "26736        <argentina>"
      ]
     },
     "execution_count": 4,
     "metadata": {},
     "output_type": "execute_result"
    }
   ],
   "source": [
    "# Lowercase all characters\n",
    "lines.words = lines.words.apply(lambda x: x.lower())\n",
    "# Remove quotes\n",
    "lines.words = lines.words.apply(lambda x: re.sub(\"'\", '', x))\n",
    "# Add start and end tokens to target sequences\n",
    "lines.words = lines.words.apply(lambda x : '<'+ x + '>')\n",
    "\n",
    "lines.sample(5)"
   ]
  },
  {
   "cell_type": "code",
   "execution_count": 5,
   "id": "78dbc248-eb1a-4376-acd5-ae4bc44d0344",
   "metadata": {},
   "outputs": [
    {
     "name": "stdout",
     "output_type": "stream",
     "text": [
      "Dictionary saved successfully to file\n"
     ]
    }
   ],
   "source": [
    "# Get all chars list\n",
    "all_chars=set()\n",
    "for word in lines.words: \n",
    "    for char in word: \n",
    "        if char not in all_chars: all_chars.add(char)\n",
    "        \n",
    "# Word with max lenght\n",
    "max_length_word=0\n",
    "for word in lines.words:\n",
    "    max_length_word = max(len(word), max_length_word)\n",
    "\n",
    "\n",
    "all_chars.add('_')\n",
    "num_chars = len(all_chars) + 1\n",
    "\n",
    "# Dicts to transform chars into index and vice-versa\n",
    "char_token_index = dict([(char, i+1) for i, char in enumerate(all_chars)])\n",
    "reverse_char_token_index = dict((i, char) for char, i in char_token_index.items())\n",
    "\n",
    "# save dictionary to char_to_index.pkl file\n",
    "with open('models/'+model_name+'/char_to_index.pkl', 'wb') as fp:\n",
    "    pickle.dump(char_token_index, fp)\n",
    "    print('Dictionary saved successfully to file')"
   ]
  },
  {
   "cell_type": "code",
   "execution_count": 6,
   "id": "349bc7f8-2b27-44a6-a22b-cf272a4c6ac9",
   "metadata": {},
   "outputs": [
    {
     "name": "stdout",
     "output_type": "stream",
     "text": [
      "(209438,) (52360,)\n"
     ]
    }
   ],
   "source": [
    "X_train, X_test, _, __ = train_test_split(lines.words, lines.words, test_size = 0.2)\n",
    "print(X_train.shape, X_test.shape)"
   ]
  },
  {
   "cell_type": "code",
   "execution_count": 7,
   "id": "2ad2c093-ff89-46ec-a284-4dfc3ed5dd06",
   "metadata": {},
   "outputs": [],
   "source": [
    "flags = pd.Series(['<start_>', '<_end>'])\n",
    "X_train = pd.concat([X_train, flags], axis=0)\n",
    "y_train, y_test = X_train, X_test"
   ]
  },
  {
   "cell_type": "code",
   "execution_count": 8,
   "id": "b3499a91-5a02-46e1-8065-f85175830b4b",
   "metadata": {},
   "outputs": [],
   "source": [
    "def generate_batch(X = X_train, y = y_train, batch_size=128):\n",
    "    ''' Generate a batch of data '''\n",
    "    while True:\n",
    "        # iterate from batch to batch\n",
    "        for j in range(0, len(X), batch_size):\n",
    "            encoder_input_data = np.zeros((batch_size, max_length_word),dtype='float32')\n",
    "            decoder_input_data = np.zeros((batch_size, max_length_word),dtype='float32')\n",
    "            decoder_target_data = np.zeros((batch_size, max_length_word, num_chars),dtype='float32')\n",
    "            # get the batch elements \n",
    "            for i, (input_text, target_text) in enumerate(zip(X[j:j+batch_size], y[j:j+batch_size])):\n",
    "                for t, char in enumerate(input_text):\n",
    "                    encoder_input_data[i, t] = char_token_index[char] # encoder input seq\n",
    "                for t, char in enumerate(target_text):\n",
    "                    if t < len(target_text) - 1:\n",
    "                        decoder_input_data[i, t] = char_token_index[char] # decoder input seq\n",
    "                    if t > 0:\n",
    "                        # decoder target sequence (one hot encoded)\n",
    "                        # does not include the START_ token\n",
    "                        # Offset by one timestep\n",
    "                        decoder_target_data[i, t-1, char_token_index[char]] = 1.\n",
    "            yield([encoder_input_data, decoder_input_data], decoder_target_data)"
   ]
  },
  {
   "cell_type": "code",
   "execution_count": 9,
   "id": "871a6cb7-1270-48b4-be4b-4611c5dd0925",
   "metadata": {},
   "outputs": [
    {
     "name": "stderr",
     "output_type": "stream",
     "text": [
      "2023-03-20 17:01:46.344075: I tensorflow/compiler/xla/stream_executor/cuda/cuda_gpu_executor.cc:981] successful NUMA node read from SysFS had negative value (-1), but there must be at least one NUMA node, so returning NUMA node zero\n",
      "2023-03-20 17:01:46.409601: W tensorflow/compiler/xla/stream_executor/platform/default/dso_loader.cc:64] Could not load dynamic library 'libcudnn.so.8'; dlerror: libcudnn.so.8: cannot open shared object file: No such file or directory\n",
      "2023-03-20 17:01:46.409652: W tensorflow/core/common_runtime/gpu/gpu_device.cc:1934] Cannot dlopen some GPU libraries. Please make sure the missing libraries mentioned above are installed properly if you would like to use GPU. Follow the guide at https://www.tensorflow.org/install/gpu for how to download and setup the required libraries for your platform.\n",
      "Skipping registering GPU devices...\n",
      "2023-03-20 17:01:46.410382: I tensorflow/core/platform/cpu_feature_guard.cc:193] This TensorFlow binary is optimized with oneAPI Deep Neural Network Library (oneDNN) to use the following CPU instructions in performance-critical operations:  AVX2 FMA\n",
      "To enable them in other operations, rebuild TensorFlow with the appropriate compiler flags.\n"
     ]
    }
   ],
   "source": [
    "latent_dim = 50\n",
    "\n",
    "# Encoder\n",
    "encoder_inputs = Input(shape=(None,))\n",
    "encoder_emb =  Embedding(num_chars, latent_dim, mask_zero=True)(encoder_inputs)\n",
    "encoder_gru = GRU(latent_dim, return_state=True)\n",
    "encoder_outputs, encoder_state = encoder_gru(encoder_emb)"
   ]
  },
  {
   "cell_type": "code",
   "execution_count": 10,
   "id": "a1e5e365-ef4b-4a18-ad8f-dc21dd435cdf",
   "metadata": {},
   "outputs": [],
   "source": [
    "# Set up the decoder, using `encoder_states` as initial state.\n",
    "decoder_inputs = Input(shape=(None,))\n",
    "decoder_emb_layer = Embedding(num_chars, latent_dim, mask_zero = True)\n",
    "decoder_emb = decoder_emb_layer(decoder_inputs)\n",
    "\n",
    "decoder_gru = GRU(latent_dim, return_sequences=True, return_state=True)\n",
    "decoder_outputs,  _ = decoder_gru(decoder_emb, initial_state=encoder_state)\n",
    "\n",
    "# Use a softmax to generate a probability distribution over the target vocabulary for each time step\n",
    "decoder_dense = Dense(num_chars, activation='softmax')\n",
    "decoder_outputs = decoder_dense(decoder_outputs)"
   ]
  },
  {
   "cell_type": "code",
   "execution_count": 11,
   "id": "33a94385-5597-4249-9ef2-4afefc43a537",
   "metadata": {},
   "outputs": [
    {
     "data": {
      "image/png": "[encoded data removed]",
      "text/plain": [
       "<IPython.core.display.Image object>"
      ]
     },
     "execution_count": 11,
     "metadata": {},
     "output_type": "execute_result"
    }
   ],
   "source": [
    "# Define the model that will turn\n",
    "# `encoder_input_data` & `decoder_input_data` into `decoder_target_data`\n",
    "model = Model([encoder_inputs, decoder_inputs], decoder_outputs)\n",
    "\n",
    "# Compile the model\n",
    "model.compile(optimizer='rmsprop', loss='categorical_crossentropy', metrics=['acc'])\n",
    "\n",
    "plot_model(model, show_shapes=True, show_layer_activations=True)"
   ]
  },
  {
   "cell_type": "code",
   "execution_count": 12,
   "id": "fa39be9a-e012-4ebd-928d-168eb20fa000",
   "metadata": {},
   "outputs": [],
   "source": [
    "train_samples = len(X_train)\n",
    "val_samples = len(X_test)\n",
    "batch_size = 64\n",
    "epochs = 10"
   ]
  },
  {
   "cell_type": "code",
   "execution_count": 13,
   "id": "e618c1dd-bd1a-4ed8-8a1e-b35a4b20f7b6",
   "metadata": {},
   "outputs": [
    {
     "name": "stdout",
     "output_type": "stream",
     "text": [
      "Epoch 1/10\n",
      "3272/3272 [==============================] - 137s 39ms/step - loss: 1.7917 - acc: 0.4280 - val_loss: 1.3850 - val_acc: 0.5579\n",
      "Epoch 2/10\n",
      "3272/3272 [==============================] - 107s 33ms/step - loss: 1.0834 - acc: 0.6553 - val_loss: 0.8509 - val_acc: 0.7221\n",
      "Epoch 3/10\n",
      "3272/3272 [==============================] - 108s 33ms/step - loss: 0.6295 - acc: 0.8027 - val_loss: 0.4391 - val_acc: 0.8701\n",
      "Epoch 4/10\n",
      "3272/3272 [==============================] - 108s 33ms/step - loss: 0.3539 - acc: 0.8947 - val_loss: 0.2496 - val_acc: 0.9257\n",
      "Epoch 5/10\n",
      "3272/3272 [==============================] - 109s 33ms/step - loss: 0.2035 - acc: 0.9413 - val_loss: 0.1393 - val_acc: 0.9612\n",
      "Epoch 6/10\n",
      "3272/3272 [==============================] - 109s 33ms/step - loss: 0.1311 - acc: 0.9631 - val_loss: 0.1207 - val_acc: 0.9653\n",
      "Epoch 7/10\n",
      "3272/3272 [==============================] - 109s 33ms/step - loss: 0.0900 - acc: 0.9753 - val_loss: 0.1033 - val_acc: 0.9697\n",
      "Epoch 8/10\n",
      "3272/3272 [==============================] - 109s 33ms/step - loss: 0.0656 - acc: 0.9823 - val_loss: 0.0549 - val_acc: 0.9856\n",
      "Epoch 9/10\n",
      "3272/3272 [==============================] - 110s 34ms/step - loss: 0.0503 - acc: 0.9866 - val_loss: 0.0492 - val_acc: 0.9864\n",
      "Epoch 10/10\n",
      "3272/3272 [==============================] - 110s 34ms/step - loss: 0.0403 - acc: 0.9893 - val_loss: 0.0479 - val_acc: 0.9864\n"
     ]
    },
    {
     "data": {
      "text/plain": [
       "<keras.callbacks.History at 0x7f4a052a1000>"
      ]
     },
     "execution_count": 13,
     "metadata": {},
     "output_type": "execute_result"
    }
   ],
   "source": [
    "model.fit(\n",
    "    generate_batch(X_train, y_train, batch_size=batch_size),\n",
    "    steps_per_epoch=train_samples//batch_size,\n",
    "    epochs=epochs,\n",
    "    validation_data=generate_batch(X_test, y_test, batch_size=batch_size),\n",
    "    validation_steps=val_samples//batch_size\n",
    ")"
   ]
  },
  {
   "cell_type": "code",
   "execution_count": 14,
   "id": "e4e3d7d5-6e1d-4e46-9728-4f9bcba9c755",
   "metadata": {},
   "outputs": [
    {
     "name": "stderr",
     "output_type": "stream",
     "text": [
      "WARNING:absl:Found untraced functions such as _update_step_xla, gru_cell_layer_call_fn, gru_cell_layer_call_and_return_conditional_losses, gru_cell_1_layer_call_fn, gru_cell_1_layer_call_and_return_conditional_losses while saving (showing 5 of 5). These functions will not be directly callable after loading.\n"
     ]
    },
    {
     "name": "stdout",
     "output_type": "stream",
     "text": [
      "INFO:tensorflow:Assets written to: models/PORT_GRU/por_enc_dec/assets\n"
     ]
    },
    {
     "name": "stderr",
     "output_type": "stream",
     "text": [
      "INFO:tensorflow:Assets written to: models/PORT_GRU/por_enc_dec/assets\n"
     ]
    }
   ],
   "source": [
    "model.save('models/'+model_name+'/por_enc_dec')"
   ]
  },
  {
   "cell_type": "code",
   "execution_count": 15,
   "id": "a780ed29-a79a-4f84-8d50-f1889180effb",
   "metadata": {},
   "outputs": [
    {
     "name": "stdout",
     "output_type": "stream",
     "text": [
      "Model: \"model\"\n",
      "__________________________________________________________________________________________________\n",
      " Layer (type)                   Output Shape         Param #     Connected to                     \n",
      "==================================================================================================\n",
      " input_1 (InputLayer)           [(None, None)]       0           []                               \n",
      "                                                                                                  \n",
      " input_2 (InputLayer)           [(None, None)]       0           []                               \n",
      "                                                                                                  \n",
      " embedding (Embedding)          (None, None, 50)     2100        ['input_1[0][0]']                \n",
      "                                                                                                  \n",
      " embedding_1 (Embedding)        (None, None, 50)     2100        ['input_2[0][0]']                \n",
      "                                                                                                  \n",
      " gru (GRU)                      [(None, 50),         15300       ['embedding[0][0]']              \n",
      "                                 (None, 50)]                                                      \n",
      "                                                                                                  \n",
      " gru_1 (GRU)                    [(None, None, 50),   15300       ['embedding_1[0][0]',            \n",
      "                                 (None, 50)]                      'gru[0][1]']                    \n",
      "                                                                                                  \n",
      " dense (Dense)                  (None, None, 42)     2142        ['gru_1[0][0]']                  \n",
      "                                                                                                  \n",
      "==================================================================================================\n",
      "Total params: 36,942\n",
      "Trainable params: 36,942\n",
      "Non-trainable params: 0\n",
      "__________________________________________________________________________________________________\n"
     ]
    }
   ],
   "source": [
    "model.summary()"
   ]
  },
  {
   "cell_type": "code",
   "execution_count": 16,
   "id": "97eddfc0-9d1b-4c11-a52a-d9b2ba7c8db9",
   "metadata": {},
   "outputs": [
    {
     "data": {
      "image/png": "[encoded data removed]",
      "text/plain": [
       "<IPython.core.display.Image object>"
      ]
     },
     "execution_count": 16,
     "metadata": {},
     "output_type": "execute_result"
    }
   ],
   "source": [
    "# Encode the input sequence to get the \"thought vectors\"\n",
    "encoder_model = Model(encoder_inputs, encoder_state)\n",
    "plot_model(encoder_model)"
   ]
  },
  {
   "cell_type": "code",
   "execution_count": 17,
   "id": "30905718-015d-4d90-9a76-f0a91fdbc60e",
   "metadata": {},
   "outputs": [
    {
     "data": {
      "image/png": "[encoded data removed]",
      "text/plain": [
       "<IPython.core.display.Image object>"
      ]
     },
     "execution_count": 17,
     "metadata": {},
     "output_type": "execute_result"
    }
   ],
   "source": [
    "# Decoder setup\n",
    "# Below tensors will hold the states of the previous time step\n",
    "decoder_state_input = Input(shape=(latent_dim,))\n",
    "\n",
    "# Get the embeddings of the decoder sequence\n",
    "decoder_emb2 = decoder_emb_layer(decoder_inputs)\n",
    "\n",
    "# To predict the next word in the sequence, set the initial states to the states from the previous time step\n",
    "decoder_outputs2, decoder_state2 = decoder_gru(decoder_emb2, initial_state=decoder_state_input)\n",
    "\n",
    "# A dense softmax layer to generate prob dist. over the target vocabulary\n",
    "decoder_outputs2 = decoder_dense(decoder_outputs2)\n",
    "\n",
    "# Final decoder model\n",
    "decoder_model = Model([decoder_inputs, decoder_state_input], [decoder_outputs2, decoder_state2])\n",
    "plot_model(decoder_model)"
   ]
  },
  {
   "cell_type": "code",
   "execution_count": 18,
   "id": "2d3ebca5-3018-4564-b7ec-16809d8552a0",
   "metadata": {},
   "outputs": [],
   "source": [
    "def decode_sequence(input_seq):\n",
    "    # Encode the input as state vectors.\n",
    "    states_value = encoder_model.predict(input_seq, verbose=0)\n",
    "    \n",
    "    # Generate empty target sequence of length 1.\n",
    "    target_seq = np.zeros((1,1))\n",
    "    \n",
    "    # Populate the first character of target sequence with the start character.\n",
    "    target_seq[0, 0] = char_token_index['<']\n",
    "    \n",
    "    # Sampling loop for a batch of sequences\n",
    "    # (to simplify, here we assume a batch of size 1).\n",
    "    stop_condition = False\n",
    "    decoded_sentence = ''\n",
    "    \n",
    "    while not stop_condition:\n",
    "        output_tokens, states_value = decoder_model.predict([target_seq, states_value], verbose=0)\n",
    "        # Sample a token\n",
    "        sampled_token_index = np.argmax(output_tokens[0, -1, :])\n",
    "        sampled_char = reverse_char_token_index[sampled_token_index]\n",
    "        decoded_sentence += sampled_char\n",
    "        \n",
    "        # Exit condition: either hit max length or find stop token.\n",
    "        if (sampled_char == '>' or len(decoded_sentence) > 50):\n",
    "            stop_condition = True\n",
    "        \n",
    "        # Update the target sequence (of length 1).\n",
    "        target_seq = np.zeros((1,1))\n",
    "        target_seq[0, 0] = sampled_token_index\n",
    "    \n",
    "    return decoded_sentence"
   ]
  },
  {
   "cell_type": "code",
   "execution_count": 19,
   "id": "16a4c7b2-f585-4ed1-b2e4-a8349f10d8a1",
   "metadata": {
    "tags": []
   },
   "outputs": [
    {
     "name": "stdout",
     "output_type": "stream",
     "text": [
      "-----------------------------------------\n",
      "Input English sentence: <confiscado>\n",
      "Actual Marathi Translation: <confiscado>\n",
      "Predicted Marathi Translation: confiscado>\n",
      "-----------------------------------------\n",
      "Input English sentence: <repartíssemos>\n",
      "Actual Marathi Translation: <repartíssemos>\n",
      "Predicted Marathi Translation: repartíssemos>\n",
      "-----------------------------------------\n",
      "Input English sentence: <elevemo>\n",
      "Actual Marathi Translation: <elevemo>\n",
      "Predicted Marathi Translation: elevemo>\n",
      "-----------------------------------------\n",
      "Input English sentence: <fogo>\n",
      "Actual Marathi Translation: <fogo>\n",
      "Predicted Marathi Translation: fogo>\n",
      "-----------------------------------------\n",
      "Input English sentence: <blasfemássemos>\n",
      "Actual Marathi Translation: <blasfemássemos>\n",
      "Predicted Marathi Translation: blasfemermosse>\n",
      "-----------------------------------------\n",
      "Input English sentence: <salivo>\n",
      "Actual Marathi Translation: <salivo>\n",
      "Predicted Marathi Translation: salivo>\n",
      "-----------------------------------------\n",
      "Input English sentence: <atenuáreis>\n",
      "Actual Marathi Translation: <atenuáreis>\n",
      "Predicted Marathi Translation: atenuáreis>\n",
      "-----------------------------------------\n",
      "Input English sentence: <vibravam>\n",
      "Actual Marathi Translation: <vibravam>\n",
      "Predicted Marathi Translation: vibravam>\n",
      "-----------------------------------------\n",
      "Input English sentence: <cadenciarias>\n",
      "Actual Marathi Translation: <cadenciarias>\n",
      "Predicted Marathi Translation: cadenciarias>\n",
      "-----------------------------------------\n",
      "Input English sentence: <operemos>\n",
      "Actual Marathi Translation: <operemos>\n",
      "Predicted Marathi Translation: operemos>\n",
      "-----------------------------------------\n",
      "Input English sentence: <posicionasse>\n",
      "Actual Marathi Translation: <posicionasse>\n",
      "Predicted Marathi Translation: posicionasse>\n",
      "-----------------------------------------\n",
      "Input English sentence: <acobertaremo>\n",
      "Actual Marathi Translation: <acobertaremo>\n",
      "Predicted Marathi Translation: acobertaremo>\n",
      "-----------------------------------------\n",
      "Input English sentence: <ajoelharias>\n",
      "Actual Marathi Translation: <ajoelharias>\n",
      "Predicted Marathi Translation: ajoelharias>\n",
      "-----------------------------------------\n",
      "Input English sentence: <atendidos>\n",
      "Actual Marathi Translation: <atendidos>\n",
      "Predicted Marathi Translation: atendidos>\n",
      "-----------------------------------------\n",
      "Input English sentence: <rediscutísseis>\n",
      "Actual Marathi Translation: <rediscutísseis>\n",
      "Predicted Marathi Translation: rediscutísseis>\n"
     ]
    }
   ],
   "source": [
    "train_gen = generate_batch(X_test, y_test, batch_size = 1)\n",
    "for k in range(15):\n",
    "    (input_seq, actual_output), _ = next(train_gen)\n",
    "    decoded_sentence = decode_sequence(input_seq)\n",
    "    print('-----------------------------------------')\n",
    "    print('Input English sentence:', X_test[k:k+1].values[0])\n",
    "    print('Actual Marathi Translation:', y_test[k:k+1].values[0])\n",
    "    print('Predicted Marathi Translation:', decoded_sentence)"
   ]
  },
  {
   "cell_type": "code",
   "execution_count": 20,
   "id": "fd7d481d-dfba-4058-b5f4-b31ef0a2b963",
   "metadata": {},
   "outputs": [
    {
     "name": "stdout",
     "output_type": "stream",
     "text": [
      "In set:  False\n",
      "Input:  <nintendo>\n",
      "Output:  nintedno>\n",
      "-------------------------\n",
      "In set:  False\n",
      "Input:  <arretado>\n",
      "Output:  arretado>\n",
      "-------------------------\n",
      "In set:  False\n",
      "Input:  <estrombofone>\n",
      "Output:  estrombofetão>\n",
      "-------------------------\n",
      "In set:  False\n",
      "Input:  <tankar>\n",
      "Output:  tanando>\n",
      "-------------------------\n",
      "In set:  False\n",
      "Input:  <_end>\n",
      "Output:  ende>\n",
      "-------------------------\n"
     ]
    }
   ],
   "source": [
    "unknown = pd.Series(['<nintendo>', '<arretado>', '<estrombofone>','<tankar>', '<_end>'])\n",
    "train_gen = generate_batch(unknown, unknown, batch_size=1)\n",
    "for k in range(len(unknown)):\n",
    "    (input_seq, actual_output), _ = next(train_gen)\n",
    "    decoded_sentence = decode_sequence(input_seq)\n",
    "    print('In set: ', unknown[k] in lines.words.values)\n",
    "    print('Input: ', unknown[k])\n",
    "    print('Output: ', decoded_sentence)\n",
    "    print('-------------------------')"
   ]
  },
  {
   "cell_type": "code",
   "execution_count": null,
   "id": "5d0f8bdb-29f7-48a8-bbc9-ecde0fbe866d",
   "metadata": {},
   "outputs": [],
   "source": []
  },
  {
   "cell_type": "code",
   "execution_count": null,
   "id": "33df27ca-c87e-496f-91e5-157a7b519c4c",
   "metadata": {},
   "outputs": [],
   "source": []
  }
 ],
 "metadata": {
  "kernelspec": {
   "display_name": "Python 3 (ipykernel)",
   "language": "python",
   "name": "python3"
  },
  "language_info": {
   "codemirror_mode": {
    "name": "ipython",
    "version": 3
   },
   "file_extension": ".py",
   "mimetype": "text/x-python",
   "name": "python",
   "nbconvert_exporter": "python",
   "pygments_lexer": "ipython3",
   "version": "3.10.9"
  }
 },
 "nbformat": 4,
 "nbformat_minor": 5
}
