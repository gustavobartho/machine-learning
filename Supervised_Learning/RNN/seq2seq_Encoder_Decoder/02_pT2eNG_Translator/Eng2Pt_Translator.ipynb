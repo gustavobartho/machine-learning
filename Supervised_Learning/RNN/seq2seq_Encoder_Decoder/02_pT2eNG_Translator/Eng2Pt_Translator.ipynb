{
 "cells": [
  {
   "cell_type": "markdown",
   "id": "1b412205-2bf9-4c56-bc7f-38c65031a5f8",
   "metadata": {},
   "source": [
    "# ***Encoder-Decoder Model***"
   ]
  },
  {
   "cell_type": "code",
   "execution_count": 1,
   "id": "db7dcb6b-0711-478e-9b92-a30ac0187833",
   "metadata": {},
   "outputs": [
    {
     "name": "stderr",
     "output_type": "stream",
     "text": [
      "2023-03-18 19:34:01.460029: I tensorflow/core/platform/cpu_feature_guard.cc:193] This TensorFlow binary is optimized with oneAPI Deep Neural Network Library (oneDNN) to use the following CPU instructions in performance-critical operations:  AVX2 FMA\n",
      "To enable them in other operations, rebuild TensorFlow with the appropriate compiler flags.\n",
      "2023-03-18 19:34:34.440889: W tensorflow/compiler/xla/stream_executor/platform/default/dso_loader.cc:64] Could not load dynamic library 'libnvinfer.so.7'; dlerror: libnvinfer.so.7: cannot open shared object file: No such file or directory\n",
      "2023-03-18 19:34:34.441429: W tensorflow/compiler/xla/stream_executor/platform/default/dso_loader.cc:64] Could not load dynamic library 'libnvinfer_plugin.so.7'; dlerror: libnvinfer_plugin.so.7: cannot open shared object file: No such file or directory\n",
      "2023-03-18 19:34:34.441481: W tensorflow/compiler/tf2tensorrt/utils/py_utils.cc:38] TF-TRT Warning: Cannot dlopen some TensorRT libraries. If you would like to use Nvidia GPU with TensorRT, please make sure the missing libraries mentioned above are installed properly.\n"
     ]
    }
   ],
   "source": [
    "import pandas as pd\n",
    "import pandas as pd\n",
    "import numpy as np\n",
    "import re\n",
    "import string\n",
    "from string import digits\n",
    "import matplotlib.pyplot as plt\n",
    "%matplotlib inline\n",
    "from sklearn.utils import shuffle\n",
    "from sklearn.model_selection import train_test_split\n",
    "from tensorflow.keras.layers import Input, LSTM, Embedding, Dense\n",
    "from tensorflow.keras.models import Model\n",
    "from tensorflow.keras.utils import plot_model"
   ]
  },
  {
   "cell_type": "markdown",
   "id": "ff233f35-1b47-426f-a0d9-1ca8079a55c8",
   "metadata": {},
   "source": [
    "---\n",
    "## **Dataset**"
   ]
  },
  {
   "cell_type": "code",
   "execution_count": 2,
   "id": "b93700b9-a943-49fd-ba25-c5fb3bb678b9",
   "metadata": {},
   "outputs": [
    {
     "data": {
      "text/plain": [
       "(188206, 3)"
      ]
     },
     "execution_count": 2,
     "metadata": {},
     "output_type": "execute_result"
    }
   ],
   "source": [
    "lines= pd.read_table('datasets/por-eng/por.txt', names=['eng', 'por', '_'])\n",
    "lines.shape"
   ]
  },
  {
   "cell_type": "code",
   "execution_count": 3,
   "id": "6eb51794-97ab-4fd6-ab8e-3ff935382d40",
   "metadata": {},
   "outputs": [
    {
     "data": {
      "text/html": [
       "<div>\n",
       "<style scoped>\n",
       "    .dataframe tbody tr th:only-of-type {\n",
       "        vertical-align: middle;\n",
       "    }\n",
       "\n",
       "    .dataframe tbody tr th {\n",
       "        vertical-align: top;\n",
       "    }\n",
       "\n",
       "    .dataframe thead th {\n",
       "        text-align: right;\n",
       "    }\n",
       "</style>\n",
       "<table border=\"1\" class=\"dataframe\">\n",
       "  <thead>\n",
       "    <tr style=\"text-align: right;\">\n",
       "      <th></th>\n",
       "      <th>eng</th>\n",
       "      <th>por</th>\n",
       "      <th>_</th>\n",
       "    </tr>\n",
       "  </thead>\n",
       "  <tbody>\n",
       "    <tr>\n",
       "      <th>60633</th>\n",
       "      <td>I can't find my glasses.</td>\n",
       "      <td>Não consigo achar os meus óculos.</td>\n",
       "      <td>CC-BY 2.0 (France) Attribution: tatoeba.org #3...</td>\n",
       "    </tr>\n",
       "    <tr>\n",
       "      <th>108159</th>\n",
       "      <td>Tom denied writing the letter.</td>\n",
       "      <td>Tom negou que escreveu a carta.</td>\n",
       "      <td>CC-BY 2.0 (France) Attribution: tatoeba.org #4...</td>\n",
       "    </tr>\n",
       "    <tr>\n",
       "      <th>108694</th>\n",
       "      <td>Tom knocked on the front door.</td>\n",
       "      <td>Tom bateu na porta da frente.</td>\n",
       "      <td>CC-BY 2.0 (France) Attribution: tatoeba.org #2...</td>\n",
       "    </tr>\n",
       "    <tr>\n",
       "      <th>172679</th>\n",
       "      <td>There are many Japanese restaurants in Boston.</td>\n",
       "      <td>Há muitos restaurantes japoneses em Boston.</td>\n",
       "      <td>CC-BY 2.0 (France) Attribution: tatoeba.org #6...</td>\n",
       "    </tr>\n",
       "    <tr>\n",
       "      <th>47548</th>\n",
       "      <td>I want to see a movie.</td>\n",
       "      <td>Eu quero assistir a um filme.</td>\n",
       "      <td>CC-BY 2.0 (France) Attribution: tatoeba.org #4...</td>\n",
       "    </tr>\n",
       "  </tbody>\n",
       "</table>\n",
       "</div>"
      ],
      "text/plain": [
       "                                                   eng  \\\n",
       "60633                         I can't find my glasses.   \n",
       "108159                  Tom denied writing the letter.   \n",
       "108694                  Tom knocked on the front door.   \n",
       "172679  There are many Japanese restaurants in Boston.   \n",
       "47548                           I want to see a movie.   \n",
       "\n",
       "                                                por  \\\n",
       "60633             Não consigo achar os meus óculos.   \n",
       "108159              Tom negou que escreveu a carta.   \n",
       "108694                Tom bateu na porta da frente.   \n",
       "172679  Há muitos restaurantes japoneses em Boston.   \n",
       "47548                 Eu quero assistir a um filme.   \n",
       "\n",
       "                                                        _  \n",
       "60633   CC-BY 2.0 (France) Attribution: tatoeba.org #3...  \n",
       "108159  CC-BY 2.0 (France) Attribution: tatoeba.org #4...  \n",
       "108694  CC-BY 2.0 (France) Attribution: tatoeba.org #2...  \n",
       "172679  CC-BY 2.0 (France) Attribution: tatoeba.org #6...  \n",
       "47548   CC-BY 2.0 (France) Attribution: tatoeba.org #4...  "
      ]
     },
     "execution_count": 3,
     "metadata": {},
     "output_type": "execute_result"
    }
   ],
   "source": [
    "lines.sample(5)"
   ]
  },
  {
   "cell_type": "code",
   "execution_count": 4,
   "id": "ea3f65e3-860f-4285-99e9-0ccf16c3efd1",
   "metadata": {},
   "outputs": [
    {
     "data": {
      "text/html": [
       "<div>\n",
       "<style scoped>\n",
       "    .dataframe tbody tr th:only-of-type {\n",
       "        vertical-align: middle;\n",
       "    }\n",
       "\n",
       "    .dataframe tbody tr th {\n",
       "        vertical-align: top;\n",
       "    }\n",
       "\n",
       "    .dataframe thead th {\n",
       "        text-align: right;\n",
       "    }\n",
       "</style>\n",
       "<table border=\"1\" class=\"dataframe\">\n",
       "  <thead>\n",
       "    <tr style=\"text-align: right;\">\n",
       "      <th></th>\n",
       "      <th>eng</th>\n",
       "      <th>por</th>\n",
       "      <th>_</th>\n",
       "    </tr>\n",
       "  </thead>\n",
       "  <tbody>\n",
       "    <tr>\n",
       "      <th>25726</th>\n",
       "      <td>youd better come</td>\n",
       "      <td>START_ é melhor você vir _END</td>\n",
       "      <td>CC-BY 2.0 (France) Attribution: tatoeba.org #2...</td>\n",
       "    </tr>\n",
       "    <tr>\n",
       "      <th>143117</th>\n",
       "      <td>the door opened and a man walked in</td>\n",
       "      <td>START_ a porta se abriu e um homem entrou _END</td>\n",
       "      <td>CC-BY 2.0 (France) Attribution: tatoeba.org #3...</td>\n",
       "    </tr>\n",
       "    <tr>\n",
       "      <th>107134</th>\n",
       "      <td>one of the windows was broken</td>\n",
       "      <td>START_ uma das janelas estava quebrada _END</td>\n",
       "      <td>CC-BY 2.0 (France) Attribution: tatoeba.org #2...</td>\n",
       "    </tr>\n",
       "    <tr>\n",
       "      <th>141619</th>\n",
       "      <td>i have some work to do this evening</td>\n",
       "      <td>START_ tenho um pouco de trabalho para fazer e...</td>\n",
       "      <td>CC-BY 2.0 (France) Attribution: tatoeba.org #2...</td>\n",
       "    </tr>\n",
       "    <tr>\n",
       "      <th>108170</th>\n",
       "      <td>tom didnt even try to escape</td>\n",
       "      <td>START_ tom nem sequer tentou escapar _END</td>\n",
       "      <td>CC-BY 2.0 (France) Attribution: tatoeba.org #3...</td>\n",
       "    </tr>\n",
       "  </tbody>\n",
       "</table>\n",
       "</div>"
      ],
      "text/plain": [
       "                                        eng  \\\n",
       "25726                      youd better come   \n",
       "143117  the door opened and a man walked in   \n",
       "107134        one of the windows was broken   \n",
       "141619  i have some work to do this evening   \n",
       "108170         tom didnt even try to escape   \n",
       "\n",
       "                                                      por  \\\n",
       "25726                       START_ é melhor você vir _END   \n",
       "143117     START_ a porta se abriu e um homem entrou _END   \n",
       "107134        START_ uma das janelas estava quebrada _END   \n",
       "141619  START_ tenho um pouco de trabalho para fazer e...   \n",
       "108170          START_ tom nem sequer tentou escapar _END   \n",
       "\n",
       "                                                        _  \n",
       "25726   CC-BY 2.0 (France) Attribution: tatoeba.org #2...  \n",
       "143117  CC-BY 2.0 (France) Attribution: tatoeba.org #3...  \n",
       "107134  CC-BY 2.0 (France) Attribution: tatoeba.org #2...  \n",
       "141619  CC-BY 2.0 (France) Attribution: tatoeba.org #2...  \n",
       "108170  CC-BY 2.0 (France) Attribution: tatoeba.org #3...  "
      ]
     },
     "execution_count": 4,
     "metadata": {},
     "output_type": "execute_result"
    }
   ],
   "source": [
    "# Lowercase all characters\n",
    "lines.eng=lines.eng.apply(lambda x: x.lower())\n",
    "lines.por=lines.por.apply(lambda x: x.lower())\n",
    "\n",
    "# Remove quotes\n",
    "lines.eng=lines.eng.apply(lambda x: re.sub(\"'\", '', x))\n",
    "lines.por=lines.por.apply(lambda x: re.sub(\"'\", '', x))\n",
    "exclude = set(string.punctuation) # Set of all special characters\n",
    "\n",
    "# Remove all the special characters\n",
    "lines.eng=lines.eng.apply(lambda x: ''.join(ch for ch in x if ch not in exclude))\n",
    "lines.por=lines.por.apply(lambda x: ''.join(ch for ch in x if ch not in exclude))\n",
    "\n",
    "# Remove all numbers from text\n",
    "remove_digits = str.maketrans('', '', digits)\n",
    "lines.eng=lines.eng.apply(lambda x: x.translate(remove_digits))\n",
    "lines.por = lines.por.apply(lambda x: x.translate(remove_digits))\n",
    "\n",
    "# Remove extra spaces\n",
    "lines.eng=lines.eng.apply(lambda x: x.strip())\n",
    "lines.por=lines.por.apply(lambda x: x.strip())\n",
    "lines.eng=lines.eng.apply(lambda x: re.sub(\" +\", \" \", x))\n",
    "lines.por=lines.por.apply(lambda x: re.sub(\" +\", \" \", x))\n",
    "\n",
    "# Add start and end tokens to target sequences\n",
    "lines.por = lines.por.apply(lambda x : 'START_ '+ x + ' _END')\n",
    "\n",
    "lines.sample(5)"
   ]
  },
  {
   "cell_type": "markdown",
   "id": "c4b31676-61c1-4a57-9c5d-899dc54bdd54",
   "metadata": {},
   "source": [
    "### Below we compute the vocabulary for both English and Portuguese. We also compute the vocabulary sizes and the length of maximum sequence for both the languages. Finally we create 4 Python dictionaries (two for each language) to convert a given token into an integer index and vice-versa."
   ]
  },
  {
   "cell_type": "code",
   "execution_count": 5,
   "id": "92491605-9edb-4eef-aa9b-f856291101cf",
   "metadata": {},
   "outputs": [
    {
     "data": {
      "text/html": [
       "<div>\n",
       "<style scoped>\n",
       "    .dataframe tbody tr th:only-of-type {\n",
       "        vertical-align: middle;\n",
       "    }\n",
       "\n",
       "    .dataframe tbody tr th {\n",
       "        vertical-align: top;\n",
       "    }\n",
       "\n",
       "    .dataframe thead th {\n",
       "        text-align: right;\n",
       "    }\n",
       "</style>\n",
       "<table border=\"1\" class=\"dataframe\">\n",
       "  <thead>\n",
       "    <tr style=\"text-align: right;\">\n",
       "      <th></th>\n",
       "      <th>eng</th>\n",
       "      <th>por</th>\n",
       "      <th>_</th>\n",
       "    </tr>\n",
       "  </thead>\n",
       "  <tbody>\n",
       "    <tr>\n",
       "      <th>139115</th>\n",
       "      <td>tom is in his room studying french</td>\n",
       "      <td>START_ tom está em sua sala estudando francês ...</td>\n",
       "      <td>CC-BY 2.0 (France) Attribution: tatoeba.org #2...</td>\n",
       "    </tr>\n",
       "    <tr>\n",
       "      <th>104454</th>\n",
       "      <td>hes lived there all his life</td>\n",
       "      <td>START_ ele viveu lá durante toda sua vida _END</td>\n",
       "      <td>CC-BY 2.0 (France) Attribution: tatoeba.org #3...</td>\n",
       "    </tr>\n",
       "    <tr>\n",
       "      <th>179493</th>\n",
       "      <td>tom said that i could spend the night at his p...</td>\n",
       "      <td>START_ tom disse que eu poderia passar a noite...</td>\n",
       "      <td>CC-BY 2.0 (France) Attribution: tatoeba.org #1...</td>\n",
       "    </tr>\n",
       "    <tr>\n",
       "      <th>43145</th>\n",
       "      <td>tom danced with mary</td>\n",
       "      <td>START_ tom dançou com maria _END</td>\n",
       "      <td>CC-BY 2.0 (France) Attribution: tatoeba.org #1...</td>\n",
       "    </tr>\n",
       "    <tr>\n",
       "      <th>33043</th>\n",
       "      <td>he was hit by a car</td>\n",
       "      <td>START_ ele foi atropelado pelo carro _END</td>\n",
       "      <td>CC-BY 2.0 (France) Attribution: tatoeba.org #2...</td>\n",
       "    </tr>\n",
       "  </tbody>\n",
       "</table>\n",
       "</div>"
      ],
      "text/plain": [
       "                                                      eng  \\\n",
       "139115                 tom is in his room studying french   \n",
       "104454                       hes lived there all his life   \n",
       "179493  tom said that i could spend the night at his p...   \n",
       "43145                                tom danced with mary   \n",
       "33043                                 he was hit by a car   \n",
       "\n",
       "                                                      por  \\\n",
       "139115  START_ tom está em sua sala estudando francês ...   \n",
       "104454     START_ ele viveu lá durante toda sua vida _END   \n",
       "179493  START_ tom disse que eu poderia passar a noite...   \n",
       "43145                    START_ tom dançou com maria _END   \n",
       "33043           START_ ele foi atropelado pelo carro _END   \n",
       "\n",
       "                                                        _  \n",
       "139115  CC-BY 2.0 (France) Attribution: tatoeba.org #2...  \n",
       "104454  CC-BY 2.0 (France) Attribution: tatoeba.org #3...  \n",
       "179493  CC-BY 2.0 (France) Attribution: tatoeba.org #1...  \n",
       "43145   CC-BY 2.0 (France) Attribution: tatoeba.org #1...  \n",
       "33043   CC-BY 2.0 (France) Attribution: tatoeba.org #2...  "
      ]
     },
     "execution_count": 5,
     "metadata": {},
     "output_type": "execute_result"
    }
   ],
   "source": [
    "# Vocabulary of English\n",
    "all_eng_words=set()\n",
    "for eng in lines.eng:\n",
    "    for word in eng.split():\n",
    "        if word not in all_eng_words:\n",
    "            all_eng_words.add(word)\n",
    "\n",
    "# Vocabulary of Prtuguese \n",
    "all_portuguese_words=set()\n",
    "for por in lines.por:\n",
    "    for word in por.split():\n",
    "        if word not in all_portuguese_words:\n",
    "            all_portuguese_words.add(word)\n",
    "\n",
    "# Max Length of source sequence\n",
    "lenght_list=[]\n",
    "for l in lines.eng:\n",
    "    lenght_list.append(len(l.split(' ')))\n",
    "max_length_src = np.max(lenght_list)\n",
    "\n",
    "# Max Length of target sequence\n",
    "lenght_list=[]\n",
    "for l in lines.por:\n",
    "    lenght_list.append(len(l.split(' ')))\n",
    "max_length_tar = np.max(lenght_list)\n",
    "\n",
    "input_words = sorted(list(all_eng_words))\n",
    "target_words = sorted(list(all_portuguese_words))\n",
    "\n",
    "# Calculate Vocab size for both source and target\n",
    "num_encoder_tokens = len(all_eng_words)\n",
    "num_decoder_tokens = len(all_portuguese_words)\n",
    "num_decoder_tokens += 1 # For zero padding\n",
    "\n",
    "# Create word to token dictionary for both source and target\n",
    "input_token_index = dict([(word, i+1) for i, word in enumerate(input_words)])\n",
    "target_token_index = dict([(word, i+1) for i, word in enumerate(target_words)])\n",
    "\n",
    "# Create token to word dictionary for both source and target\n",
    "reverse_input_char_index = dict((i, word) for word, i in input_token_index.items())\n",
    "reverse_target_char_index = dict((i, word) for word, i in target_token_index.items())\n",
    "\n",
    "lines = shuffle(lines)\n",
    "lines.head(5)"
   ]
  },
  {
   "cell_type": "markdown",
   "id": "daf3ff24-652b-495d-ad6c-37bf5f8c02f6",
   "metadata": {},
   "source": [
    "### Then we make a 90–10 train and test split and write a Python generator function to load the data in batches as follows"
   ]
  },
  {
   "cell_type": "code",
   "execution_count": 6,
   "id": "d9d0ba98-36d4-48d9-976c-24aeb68d0678",
   "metadata": {},
   "outputs": [
    {
     "name": "stdout",
     "output_type": "stream",
     "text": [
      "(169385,) (18821,)\n"
     ]
    }
   ],
   "source": [
    "# Train - Test Split\n",
    "X, y = lines.eng, lines.por\n",
    "X_train, X_test, y_train, y_test = train_test_split(X, y, test_size = 0.1)\n",
    "\n",
    "X_train.to_pickle('files/Weights_Por/X_train.pkl')\n",
    "X_test.to_pickle('files/Weights_Por/X_test.pkl')\n",
    "\n",
    "print(X_train.shape, X_test.shape)"
   ]
  },
  {
   "cell_type": "code",
   "execution_count": 7,
   "id": "dbe8095e-cd20-488d-9d7d-e3496c26fa90",
   "metadata": {},
   "outputs": [],
   "source": [
    "def generate_batch(X = X_train, y = y_train, batch_size = 128):\n",
    "    ''' Generate a batch of data '''\n",
    "    while True:\n",
    "        for j in range(0, len(X), batch_size):\n",
    "            encoder_input_data = np.zeros((batch_size, max_length_src),dtype='float32')\n",
    "            decoder_input_data = np.zeros((batch_size, max_length_tar),dtype='float32')\n",
    "            decoder_target_data = np.zeros((batch_size, max_length_tar, num_decoder_tokens),dtype='float32')\n",
    "            for i, (input_text, target_text) in enumerate(zip(X[j:j+batch_size], y[j:j+batch_size])):\n",
    "                for t, word in enumerate(input_text.split()):\n",
    "                    encoder_input_data[i, t] = input_token_index[word] # encoder input seq\n",
    "                for t, word in enumerate(target_text.split()):\n",
    "                    if t<len(target_text.split())-1:\n",
    "                        decoder_input_data[i, t] = target_token_index[word] # decoder input seq\n",
    "                    if t>0:\n",
    "                        # decoder target sequence (one hot encoded)\n",
    "                        # does not include the START_ token\n",
    "                        # Offset by one timestep\n",
    "                        decoder_target_data[i, t - 1, target_token_index[word]] = 1.\n",
    "            yield([encoder_input_data, decoder_input_data], decoder_target_data)\n"
   ]
  },
  {
   "cell_type": "markdown",
   "id": "62907578-f409-4793-b183-fa2e80115e52",
   "metadata": {},
   "source": [
    "---\n",
    "## **1 - Architecture**\n",
    "* ### Both encoder and the decoder are typically LSTM models (or sometimes GRU models)\n",
    "* ### Encoder reads the input sequence and summarizes the information in something called as the internal state vectors (in case of LSTM these are called as the hidden state and cell state vectors). We discard the outputs of the encoder and only preserve the internal states.\n",
    "* ### Decoder is an LSTM whose initial states are initialized to the final states of the Encoder LSTM. Using these initial states, decoder starts generating the output sequence.\n",
    "* ### The decoder behaves a bit differently during the training and inference procedure. During the training, we use a technique call teacher forcing which helps to train the decoder faster. During inference, the input to the decoder at each time step is the output from the previous time step.\n",
    "* ### Intuitively, the encoder summarizes the input sequence into state vectors (sometimes also called as Thought vectors), which are then fed to the decoder which starts generating the output sequence given the Thought vectors. The decoder is just a language model conditioned on the initial states."
   ]
  },
  {
   "cell_type": "code",
   "execution_count": 8,
   "id": "6250c7d3-6674-4590-a9de-b6cc34c56cec",
   "metadata": {},
   "outputs": [],
   "source": [
    "latent_dim = 50"
   ]
  },
  {
   "cell_type": "markdown",
   "id": "c3f173ba-6265-4d46-ad74-beae047c0f69",
   "metadata": {},
   "source": [
    "---\n",
    "## **2 - Summary of the encoder:**\n",
    "### We will read the input sequence (English sentence) word by word and preserve the internal states of the LSTM network generated after the last time step hk, ck (assuming the sentence has ‘k’ words). These vectors (states hk and ck) are called as the encoding of the input sequence, as they encode (summarize) the entire input in a vector form. Since we will start generating the output once we have read the entire sequence, outputs (Yi) of the Encoder at each time step are discarded."
   ]
  },
  {
   "cell_type": "code",
   "execution_count": 9,
   "id": "b61f0234-00f6-43c4-b129-3bb45623ba2c",
   "metadata": {},
   "outputs": [
    {
     "name": "stderr",
     "output_type": "stream",
     "text": [
      "2023-03-18 19:35:15.828859: I tensorflow/compiler/xla/stream_executor/cuda/cuda_gpu_executor.cc:981] successful NUMA node read from SysFS had negative value (-1), but there must be at least one NUMA node, so returning NUMA node zero\n",
      "2023-03-18 19:35:19.271294: W tensorflow/compiler/xla/stream_executor/platform/default/dso_loader.cc:64] Could not load dynamic library 'libcudnn.so.8'; dlerror: libcudnn.so.8: cannot open shared object file: No such file or directory\n",
      "2023-03-18 19:35:19.271377: W tensorflow/core/common_runtime/gpu/gpu_device.cc:1934] Cannot dlopen some GPU libraries. Please make sure the missing libraries mentioned above are installed properly if you would like to use GPU. Follow the guide at https://www.tensorflow.org/install/gpu for how to download and setup the required libraries for your platform.\n",
      "Skipping registering GPU devices...\n",
      "2023-03-18 19:35:19.272489: I tensorflow/core/platform/cpu_feature_guard.cc:193] This TensorFlow binary is optimized with oneAPI Deep Neural Network Library (oneDNN) to use the following CPU instructions in performance-critical operations:  AVX2 FMA\n",
      "To enable them in other operations, rebuild TensorFlow with the appropriate compiler flags.\n"
     ]
    }
   ],
   "source": [
    "# Encoder\n",
    "encoder_inputs = Input(shape=(None,))\n",
    "enc_emb =  Embedding(num_encoder_tokens, latent_dim, mask_zero = True)(encoder_inputs)\n",
    "encoder_lstm = LSTM(latent_dim, return_state=True)\n",
    "encoder_outputs, state_h, state_c = encoder_lstm(enc_emb)\n",
    "\n",
    "# We discard `encoder_outputs` and only keep the states.\n",
    "encoder_states = [state_h, state_c]"
   ]
  },
  {
   "cell_type": "markdown",
   "id": "8a1960cb-1519-4ef4-9f51-057659e4dfad",
   "metadata": {},
   "source": [
    "---\n",
    "## **3 - Decoder LSTM — Training Mode**\n",
    "\n",
    "* ### Unlike the Encoder LSTM which has the same role to play in both the training phase as well as in the inference phase, the Decoder LSTM has a slightly different role to play in both of these phases.\n",
    "* ### The initial states (h0, c0) of the decoder are set to the final states of the encoder. This intuitively means that the decoder is trained to start generating the output sequence depending on the information encoded by the encoder.\n",
    "* ### In the first time step we provide the START_ token so that the decoder starts generating the next token (the actual first word of Portuguese sentence). And after the last word in the Portuguese sentence, we make the decoder learn to predict the _END token. This will be used as the stopping condition during the inference procedure, basically it will denote the end of the translated sentence and we will stop the inference loop\n",
    "* ### We use a technique called “Teacher Forcing” wherein the input at each time step is given as the actual output (and not the predicted output) from the previous time step. This helps in more faster and efficient training of the network.\n",
    "* ### Finally the loss is calculated on the predicted outputs from each time step and the errors are back propagated through time in order to update the parameters of the network. Training the network over longer period with sufficiently large amount of data results in pretty good predictions (translations) "
   ]
  },
  {
   "cell_type": "code",
   "execution_count": null,
   "id": "6a3d5f8c-e155-4b58-a94e-8d90b19f5c7c",
   "metadata": {},
   "outputs": [],
   "source": [
    "# Set up the decoder, using `encoder_states` as initial state.\n",
    "decoder_inputs = Input(shape=(None,))\n",
    "dec_emb_layer = Embedding(num_decoder_tokens, latent_dim, mask_zero = True)\n",
    "dec_emb = dec_emb_layer(decoder_inputs)\n",
    "\n",
    "# We set up our decoder to return full output sequences,\n",
    "# and to return internal states as well. We don't use the\n",
    "# return states in the training model, but we will use them in inference.\n",
    "decoder_lstm = LSTM(latent_dim, return_sequences=True, return_state=True)\n",
    "decoder_outputs, _, _ = decoder_lstm(dec_emb, initial_state=encoder_states)\n",
    "\n",
    "# Use a softmax to generate a probability distribution over the target vocabulary for each time step\n",
    "decoder_dense = Dense(num_decoder_tokens, activation='softmax')\n",
    "decoder_outputs = decoder_dense(decoder_outputs)"
   ]
  },
  {
   "cell_type": "markdown",
   "id": "c4700543-a9b0-41eb-ac8d-7ecc9e720267",
   "metadata": {},
   "source": [
    "---\n",
    "## **4 - Decoder LSTM — Inference Mode**\n",
    "\n",
    "* ### As already stated the Encoder LSTM plays the same role of reading the input sequence (English sentence) and generating the thought vectors (hk, ck). However, the decoder now has to predict the entire output sequence (Portuguese sentence) given these thought vectors.\n",
    "\n",
    "* ### **Step 1:** During inference, we generate one word at a time. Thus the Decoder LSTM is called in a loop, every time processing only one time step.\n",
    "\n",
    "* ### **Step 2:** The initial states of the decoder are set to the final states of the encoder.\n",
    "\n",
    "* ### **Step 3:** The initial input to the decoder is always the START_ token.\n",
    "\n",
    "* ### **Step 4:** At each time step, we preserve the states of the decoder and set them as initial states for the next time step.\n",
    "\n",
    "* ### **Step 5:** At each time step, the predicted output is fed as input in the next time step.\n",
    "\n",
    "* ### **Step 6:** We break the loop when the decoder predicts the END_ token.\n",
    "---"
   ]
  },
  {
   "cell_type": "code",
   "execution_count": null,
   "id": "8fe7d5f3-82fe-4419-8b57-3727b8ea2a77",
   "metadata": {},
   "outputs": [
    {
     "data": {
      "image/png": "[encoded data removed]",
      "text/plain": [
       "<IPython.core.display.Image object>"
      ]
     },
     "execution_count": 11,
     "metadata": {},
     "output_type": "execute_result"
    }
   ],
   "source": [
    "# Define the model that will turn\n",
    "# `encoder_input_data` & `decoder_input_data` into `decoder_target_data`\n",
    "model = Model([encoder_inputs, decoder_inputs], decoder_outputs)\n",
    "\n",
    "# Compile the model\n",
    "model.compile(optimizer='rmsprop', loss='categorical_crossentropy', metrics=['acc'])\n",
    "\n",
    "plot_model(model)"
   ]
  },
  {
   "cell_type": "code",
   "execution_count": null,
   "id": "df122897-23ca-4f56-b1eb-9c1f2d310a5d",
   "metadata": {},
   "outputs": [],
   "source": [
    "train_samples = len(X_train)\n",
    "val_samples = len(X_test)\n",
    "batch_size = 128\n",
    "epochs = 50"
   ]
  },
  {
   "cell_type": "code",
   "execution_count": null,
   "id": "abdb3828-9830-41aa-9821-cb905c03b160",
   "metadata": {},
   "outputs": [
    {
     "name": "stderr",
     "output_type": "stream",
     "text": [
      "/tmp/ipykernel_122306/2108290721.py:1: UserWarning: `Model.fit_generator` is deprecated and will be removed in a future version. Please use `Model.fit`, which supports generators.\n",
      "  model.fit_generator(generator = generate_batch(X_train, y_train, batch_size = batch_size),\n",
      "2023-03-18 19:35:25.416683: W tensorflow/tsl/framework/cpu_allocator_impl.cc:82] Allocation of 575373312 exceeds 10% of free system memory.\n"
     ]
    },
    {
     "name": "stdout",
     "output_type": "stream",
     "text": [
      "Epoch 1/50\n"
     ]
    },
    {
     "name": "stderr",
     "output_type": "stream",
     "text": [
      "2023-03-18 19:35:33.914148: W tensorflow/tsl/framework/cpu_allocator_impl.cc:82] Allocation of 575373312 exceeds 10% of free system memory.\n",
      "2023-03-18 19:35:35.289024: W tensorflow/tsl/framework/cpu_allocator_impl.cc:82] Allocation of 575373312 exceeds 10% of free system memory.\n",
      "2023-03-18 19:35:35.956447: W tensorflow/tsl/framework/cpu_allocator_impl.cc:82] Allocation of 575373312 exceeds 10% of free system memory.\n",
      "2023-03-18 19:35:36.263440: W tensorflow/tsl/framework/cpu_allocator_impl.cc:82] Allocation of 575373312 exceeds 10% of free system memory.\n"
     ]
    },
    {
     "name": "stdout",
     "output_type": "stream",
     "text": [
      "   1/1323 [..............................] - ETA: 7:16:57 - loss: 10.0610 - acc: 0.0000e+00"
     ]
    }
   ],
   "source": [
    "model.fit_generator(generator = generate_batch(X_train, y_train, batch_size = batch_size),\n",
    "                    steps_per_epoch = train_samples//batch_size,\n",
    "                    epochs=epochs,\n",
    "                    validation_data = generate_batch(X_test, y_test, batch_size = batch_size),\n",
    "                    validation_steps = val_samples//batch_size)"
   ]
  },
  {
   "cell_type": "code",
   "execution_count": null,
   "id": "bdc8ded8-bb8b-4c5b-ae60-000f796d3b4c",
   "metadata": {},
   "outputs": [],
   "source": [
    "model.save_weights('files/model/nmt_weights.h5')\n",
    "model.load_weights('files/model/nmt_weights.h5')"
   ]
  },
  {
   "cell_type": "markdown",
   "id": "24237001-b87c-4022-baad-29fdcb67661c",
   "metadata": {},
   "source": [
    "## Inference"
   ]
  },
  {
   "cell_type": "code",
   "execution_count": null,
   "id": "44602aef-c57c-4cb8-9a73-83ecad0956e5",
   "metadata": {},
   "outputs": [],
   "source": [
    "# Encode the input sequence to get the \"thought vectors\"\n",
    "encoder_model = Model(encoder_inputs, encoder_states)\n",
    "\n",
    "# Decoder setup\n",
    "# Below tensors will hold the states of the previous time step\n",
    "decoder_state_input_h = Input(shape=(latent_dim,))\n",
    "decoder_state_input_c = Input(shape=(latent_dim,))\n",
    "decoder_states_inputs = [decoder_state_input_h, decoder_state_input_c]\n",
    "\n",
    "# Get the embeddings of the decoder sequence\n",
    "dec_emb2= dec_emb_layer(decoder_inputs)\n",
    "\n",
    "# To predict the next word in the sequence, set the initial states to the states from the previous time step\n",
    "decoder_outputs2, state_h2, state_c2 = decoder_lstm(dec_emb2, initial_state=decoder_states_inputs)\n",
    "decoder_states2 = [state_h2, state_c2]\n",
    "\n",
    "# A dense softmax layer to generate prob dist. over the target vocabulary\n",
    "decoder_outputs2 = decoder_dense(decoder_outputs2)\n",
    "\n",
    "# Final decoder model\n",
    "decoder_model = Model([decoder_inputs] + decoder_states_inputs, [decoder_outputs2] + decoder_states2)"
   ]
  },
  {
   "cell_type": "code",
   "execution_count": null,
   "id": "aba2afa0-7b09-4d60-b75a-8dd406177b9e",
   "metadata": {},
   "outputs": [],
   "source": [
    "def decode_sequence(input_seq):\n",
    "    # Encode the input as state vectors.\n",
    "    states_value = encoder_model.predict(input_seq)\n",
    "    \n",
    "    # Generate empty target sequence of length 1.\n",
    "    target_seq = np.zeros((1,1))\n",
    "    \n",
    "    # Populate the first character of target sequence with the start character.\n",
    "    target_seq[0, 0] = target_token_index['START_']\n",
    "    \n",
    "    # Sampling loop for a batch of sequences\n",
    "    # (to simplify, here we assume a batch of size 1).\n",
    "    stop_condition = False\n",
    "    decoded_sentence = ''\n",
    "    \n",
    "    while not stop_condition:\n",
    "        output_tokens, h, c = decoder_model.predict([target_seq] + states_value)\n",
    "        # Sample a token\n",
    "        sampled_token_index = np.argmax(output_tokens[0, -1, :])\n",
    "        sampled_char = reverse_target_char_index[sampled_token_index]\n",
    "        decoded_sentence += ' '+sampled_char\n",
    "        \n",
    "        # Exit condition: either hit max length or find stop token.\n",
    "        if (sampled_char == '_END' or len(decoded_sentence) > 50):\n",
    "            stop_condition = True\n",
    "        \n",
    "        # Update the target sequence (of length 1).\n",
    "        target_seq = np.zeros((1,1))\n",
    "        target_seq[0, 0] = sampled_token_index\n",
    "        \n",
    "        # Update states\n",
    "        states_value = [h, c]\n",
    "    \n",
    "    return decoded_sentence"
   ]
  },
  {
   "cell_type": "markdown",
   "id": "3b2868a3-4cb1-4326-8f74-d3d1d485fb9c",
   "metadata": {},
   "source": [
    "## Evaluation on Train Dataset"
   ]
  },
  {
   "cell_type": "code",
   "execution_count": null,
   "id": "d0f9bf38-88aa-4a1d-8790-2ab91d835c45",
   "metadata": {},
   "outputs": [],
   "source": [
    "train_gen = generate_batch(X_train, y_train, batch_size = 1)\n",
    "k=-1"
   ]
  },
  {
   "cell_type": "code",
   "execution_count": null,
   "id": "b893a956-e2db-4787-9c66-7be449af47fd",
   "metadata": {},
   "outputs": [],
   "source": [
    "for _ in range(15):\n",
    "    k+=1\n",
    "    (input_seq, actual_output), _ = next(train_gen)\n",
    "    decoded_sentence = decode_sequence(input_seq)\n",
    "    print('Input English sentence:', X_train[k:k+1].values[0])\n",
    "    print('Actual Marathi Translation:', y_train[k:k+1].values[0][6:-4])\n",
    "    print('Predicted Marathi Translation:', decoded_sentence[:-4])"
   ]
  }
 ],
 "metadata": {
  "kernelspec": {
   "display_name": "Python 3 (ipykernel)",
   "language": "python",
   "name": "python3"
  },
  "language_info": {
   "codemirror_mode": {
    "name": "ipython",
    "version": 3
   },
   "file_extension": ".py",
   "mimetype": "text/x-python",
   "name": "python",
   "nbconvert_exporter": "python",
   "pygments_lexer": "ipython3",
   "version": "3.10.9"
  }
 },
 "nbformat": 4,
 "nbformat_minor": 5
}
